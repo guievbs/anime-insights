{
 "cells": [
  {
   "cell_type": "markdown",
   "metadata": {},
   "source": [
    "### Os dados utilizados neste trabalho foram fornecidos por [Sajid - dbdmobile](https://www.kaggle.com/datasets/dbdmobile/myanimelist-dataset)\n",
    "#### Rótulos de Conteúdo (Traduzidos do Inglês):\n",
    "\n",
    "- `anime_id`: Identificação única para cada anime.\n",
    "\n",
    "- `Name`: O nome do anime em seu idioma original.\n",
    "\n",
    "- `English name`: O nome em inglês do anime.\n",
    "\n",
    "- `Other name`: Nome nativo ou título do anime (pode estar em japonês, chinês ou coreano).\n",
    "\n",
    "- `Score`: A pontuação ou classificação atribuída ao anime.\n",
    "\n",
    "- `Genres`: Os gêneros do anime, separados por vírgulas.\n",
    "\n",
    "- `Synopsis`: Uma breve descrição ou resumo do enredo do anime.\n",
    "\n",
    "- `Type`: O tipo de anime (por exemplo, série de TV, filme, OVA, etc.).\n",
    "\n",
    "- `Episodes`: O número de episódios no anime.\n",
    "\n",
    "- `Aired`: As datas em que o anime foi ao ar.\n",
    "\n",
    "- `Premiered`: A temporada e o ano em que o anime estreou.\n",
    "\n",
    "- `Status`: O status do anime (por exemplo, Finalizado, Atualmente em exibição, etc.).\n",
    "\n",
    "- `Producers`: As empresas de produção ou produtores do anime.\n",
    "\n",
    "- `Licensors`: Os licenciadores do anime (por exemplo, plataformas de streaming).\n",
    "\n",
    "- `Studios`: Os estúdios de animação que trabalharam no anime.\n",
    "\n",
    "- `Source`: O material de origem do anime (por exemplo, mangá, light novel, original).\n",
    "\n",
    "- `Duration`: A duração de cada episódio.\n",
    "\n",
    "- `Rating`: A classificação etária do anime.\n",
    "\n",
    "- `Rank`: A posição do anime com base em popularidade ou outros critérios.\n",
    "\n",
    "- `Popularity`: A classificação de popularidade do anime.\n",
    "\n",
    "- `Favorites`: O número de vezes que o anime foi marcado como favorito pelos usuários.\n",
    "\n",
    "- `Scored By`: O número de usuários que deram uma pontuação ao anime.\n",
    "\n",
    "- `Members`: O número de membros que adicionaram o anime à sua lista na plataforma.\n",
    "\n",
    "- `Image URL`: A URL da imagem ou poster do anime.\n"
   ]
  },
  {
   "cell_type": "markdown",
   "metadata": {},
   "source": [
    "### Importando as bibliotecas e fazendo as configurações"
   ]
  },
  {
   "cell_type": "code",
   "execution_count": 261,
   "metadata": {},
   "outputs": [],
   "source": [
    "import numpy as np\n",
    "import pandas as pd\n",
    "import matplotlib.pyplot as plt\n",
    "import seaborn as sns\n",
    "import warnings \n",
    "\n",
    "# Usando uma paleta predefinida\n",
    "sns.set_palette(\"pastel6\")\n",
    "warnings.filterwarnings('ignore')\n",
    "%matplotlib inline"
   ]
  },
  {
   "cell_type": "markdown",
   "metadata": {},
   "source": [
    "### Extraindo os dados e começando a análise"
   ]
  },
  {
   "cell_type": "code",
   "execution_count": 262,
   "metadata": {},
   "outputs": [
    {
     "data": {
      "text/html": [
       "<div>\n",
       "<style scoped>\n",
       "    .dataframe tbody tr th:only-of-type {\n",
       "        vertical-align: middle;\n",
       "    }\n",
       "\n",
       "    .dataframe tbody tr th {\n",
       "        vertical-align: top;\n",
       "    }\n",
       "\n",
       "    .dataframe thead th {\n",
       "        text-align: right;\n",
       "    }\n",
       "</style>\n",
       "<table border=\"1\" class=\"dataframe\">\n",
       "  <thead>\n",
       "    <tr style=\"text-align: right;\">\n",
       "      <th></th>\n",
       "      <th>anime_id</th>\n",
       "      <th>Name</th>\n",
       "      <th>English name</th>\n",
       "      <th>Other name</th>\n",
       "      <th>Score</th>\n",
       "      <th>Genres</th>\n",
       "      <th>Synopsis</th>\n",
       "      <th>Type</th>\n",
       "      <th>Episodes</th>\n",
       "      <th>Aired</th>\n",
       "      <th>...</th>\n",
       "      <th>Studios</th>\n",
       "      <th>Source</th>\n",
       "      <th>Duration</th>\n",
       "      <th>Rating</th>\n",
       "      <th>Rank</th>\n",
       "      <th>Popularity</th>\n",
       "      <th>Favorites</th>\n",
       "      <th>Scored By</th>\n",
       "      <th>Members</th>\n",
       "      <th>Image URL</th>\n",
       "    </tr>\n",
       "  </thead>\n",
       "  <tbody>\n",
       "    <tr>\n",
       "      <th>18610</th>\n",
       "      <td>45142</td>\n",
       "      <td>Mohuan Xian Zong (Movie)</td>\n",
       "      <td>Magic Wonderland (Movie)</td>\n",
       "      <td>魔幻仙踪</td>\n",
       "      <td>UNKNOWN</td>\n",
       "      <td>Adventure, Fantasy</td>\n",
       "      <td>A baby princess named Ocean is sent away from ...</td>\n",
       "      <td>Movie</td>\n",
       "      <td>1.0</td>\n",
       "      <td>May 30, 2014</td>\n",
       "      <td>...</td>\n",
       "      <td>UNKNOWN</td>\n",
       "      <td>Unknown</td>\n",
       "      <td>1 hr 29 min</td>\n",
       "      <td>PG - Children</td>\n",
       "      <td>18231.0</td>\n",
       "      <td>22122</td>\n",
       "      <td>0</td>\n",
       "      <td>UNKNOWN</td>\n",
       "      <td>60</td>\n",
       "      <td>https://cdn.myanimelist.net/images/anime/1213/...</td>\n",
       "    </tr>\n",
       "    <tr>\n",
       "      <th>20569</th>\n",
       "      <td>47961</td>\n",
       "      <td>Bai Bian Xiao Jia: Xiao Jia Xiang Qian Chong</td>\n",
       "      <td>UNKNOWN</td>\n",
       "      <td>百变小加之小加向前冲</td>\n",
       "      <td>UNKNOWN</td>\n",
       "      <td>UNKNOWN</td>\n",
       "      <td>No description available for this anime.</td>\n",
       "      <td>ONA</td>\n",
       "      <td>52.0</td>\n",
       "      <td>Not available</td>\n",
       "      <td>...</td>\n",
       "      <td>UNKNOWN</td>\n",
       "      <td>Original</td>\n",
       "      <td>3 min per ep</td>\n",
       "      <td>PG - Children</td>\n",
       "      <td>14739.0</td>\n",
       "      <td>23581</td>\n",
       "      <td>0</td>\n",
       "      <td>UNKNOWN</td>\n",
       "      <td>42</td>\n",
       "      <td>https://cdn.myanimelist.net/images/anime/1101/...</td>\n",
       "    </tr>\n",
       "  </tbody>\n",
       "</table>\n",
       "<p>2 rows × 24 columns</p>\n",
       "</div>"
      ],
      "text/plain": [
       "       anime_id                                          Name  \\\n",
       "18610     45142                      Mohuan Xian Zong (Movie)   \n",
       "20569     47961  Bai Bian Xiao Jia: Xiao Jia Xiang Qian Chong   \n",
       "\n",
       "                   English name  Other name    Score              Genres  \\\n",
       "18610  Magic Wonderland (Movie)        魔幻仙踪  UNKNOWN  Adventure, Fantasy   \n",
       "20569                   UNKNOWN  百变小加之小加向前冲  UNKNOWN             UNKNOWN   \n",
       "\n",
       "                                                Synopsis   Type Episodes  \\\n",
       "18610  A baby princess named Ocean is sent away from ...  Movie      1.0   \n",
       "20569           No description available for this anime.    ONA     52.0   \n",
       "\n",
       "               Aired  ...  Studios    Source      Duration         Rating  \\\n",
       "18610   May 30, 2014  ...  UNKNOWN   Unknown   1 hr 29 min  PG - Children   \n",
       "20569  Not available  ...  UNKNOWN  Original  3 min per ep  PG - Children   \n",
       "\n",
       "          Rank Popularity Favorites Scored By Members  \\\n",
       "18610  18231.0      22122         0   UNKNOWN      60   \n",
       "20569  14739.0      23581         0   UNKNOWN      42   \n",
       "\n",
       "                                               Image URL  \n",
       "18610  https://cdn.myanimelist.net/images/anime/1213/...  \n",
       "20569  https://cdn.myanimelist.net/images/anime/1101/...  \n",
       "\n",
       "[2 rows x 24 columns]"
      ]
     },
     "execution_count": 262,
     "metadata": {},
     "output_type": "execute_result"
    }
   ],
   "source": [
    "path = \"../data/anime-dataset-2023.csv\"\n",
    "df = pd.read_csv(path)\n",
    "df.sample(2)"
   ]
  },
  {
   "cell_type": "code",
   "execution_count": 263,
   "metadata": {},
   "outputs": [
    {
     "name": "stdout",
     "output_type": "stream",
     "text": [
      "<class 'pandas.core.frame.DataFrame'>\n",
      "RangeIndex: 24905 entries, 0 to 24904\n",
      "Data columns (total 24 columns):\n",
      " #   Column        Non-Null Count  Dtype \n",
      "---  ------        --------------  ----- \n",
      " 0   anime_id      24905 non-null  int64 \n",
      " 1   Name          24905 non-null  object\n",
      " 2   English name  24905 non-null  object\n",
      " 3   Other name    24905 non-null  object\n",
      " 4   Score         24905 non-null  object\n",
      " 5   Genres        24905 non-null  object\n",
      " 6   Synopsis      24905 non-null  object\n",
      " 7   Type          24905 non-null  object\n",
      " 8   Episodes      24905 non-null  object\n",
      " 9   Aired         24905 non-null  object\n",
      " 10  Premiered     24905 non-null  object\n",
      " 11  Status        24905 non-null  object\n",
      " 12  Producers     24905 non-null  object\n",
      " 13  Licensors     24905 non-null  object\n",
      " 14  Studios       24905 non-null  object\n",
      " 15  Source        24905 non-null  object\n",
      " 16  Duration      24905 non-null  object\n",
      " 17  Rating        24905 non-null  object\n",
      " 18  Rank          24905 non-null  object\n",
      " 19  Popularity    24905 non-null  int64 \n",
      " 20  Favorites     24905 non-null  int64 \n",
      " 21  Scored By     24905 non-null  object\n",
      " 22  Members       24905 non-null  int64 \n",
      " 23  Image URL     24905 non-null  object\n",
      "dtypes: int64(4), object(20)\n",
      "memory usage: 4.6+ MB\n"
     ]
    }
   ],
   "source": [
    "df.info()"
   ]
  },
  {
   "cell_type": "markdown",
   "metadata": {},
   "source": [
    "#### Removendo as colunas sem utilidades para a análise\n",
    "\n",
    "Colunas que representam duração, premiação, imagem e etc..."
   ]
  },
  {
   "cell_type": "code",
   "execution_count": 264,
   "metadata": {},
   "outputs": [],
   "source": [
    "col_drop = ['Image URL', 'Members', 'Duration', 'Source', 'Licensors', 'Producers', 'Status', 'Premiered', 'Synopsis', 'Other name', 'English name', 'Aired'] \n",
    "df = df.drop(columns=col_drop)"
   ]
  },
  {
   "cell_type": "markdown",
   "metadata": {},
   "source": [
    "#### Excluindo os valores nulos"
   ]
  },
  {
   "cell_type": "markdown",
   "metadata": {},
   "source": [
    "1. Trocando os valores `'UNKNOWN'` para o `np.nan` do Numpy \n",
    "\n",
    "2. Iremos remover os valores nulos, pois, estão espalhados em diversas features que representam opiniões ou são algo categórico"
   ]
  },
  {
   "cell_type": "code",
   "execution_count": 265,
   "metadata": {},
   "outputs": [
    {
     "data": {
      "text/html": [
       "<div>\n",
       "<style scoped>\n",
       "    .dataframe tbody tr th:only-of-type {\n",
       "        vertical-align: middle;\n",
       "    }\n",
       "\n",
       "    .dataframe tbody tr th {\n",
       "        vertical-align: top;\n",
       "    }\n",
       "\n",
       "    .dataframe thead th {\n",
       "        text-align: right;\n",
       "    }\n",
       "</style>\n",
       "<table border=\"1\" class=\"dataframe\">\n",
       "  <thead>\n",
       "    <tr style=\"text-align: right;\">\n",
       "      <th></th>\n",
       "      <th>anime_id</th>\n",
       "      <th>Name</th>\n",
       "      <th>Score</th>\n",
       "      <th>Genres</th>\n",
       "      <th>Type</th>\n",
       "      <th>Episodes</th>\n",
       "      <th>Studios</th>\n",
       "      <th>Rating</th>\n",
       "      <th>Rank</th>\n",
       "      <th>Popularity</th>\n",
       "      <th>Favorites</th>\n",
       "      <th>Scored By</th>\n",
       "    </tr>\n",
       "  </thead>\n",
       "  <tbody>\n",
       "    <tr>\n",
       "      <th>23377</th>\n",
       "      <td>53367</td>\n",
       "      <td>Shen Lan Qi Yu Wushuang Zhu 2nd Season</td>\n",
       "      <td>7.0</td>\n",
       "      <td>Action, Fantasy</td>\n",
       "      <td>ONA</td>\n",
       "      <td>15.0</td>\n",
       "      <td>CG Year</td>\n",
       "      <td>PG-13 - Teens 13 or older</td>\n",
       "      <td>3983.0</td>\n",
       "      <td>15468</td>\n",
       "      <td>4</td>\n",
       "      <td>122.0</td>\n",
       "    </tr>\n",
       "    <tr>\n",
       "      <th>408</th>\n",
       "      <td>435</td>\n",
       "      <td>Magic Knight Rayearth</td>\n",
       "      <td>7.47</td>\n",
       "      <td>Adventure, Comedy, Drama, Fantasy</td>\n",
       "      <td>TV</td>\n",
       "      <td>20.0</td>\n",
       "      <td>Tokyo Movie Shinsha</td>\n",
       "      <td>PG-13 - Teens 13 or older</td>\n",
       "      <td>1816.0</td>\n",
       "      <td>2492</td>\n",
       "      <td>547</td>\n",
       "      <td>27916.0</td>\n",
       "    </tr>\n",
       "    <tr>\n",
       "      <th>5377</th>\n",
       "      <td>8479</td>\n",
       "      <td>Hetalia World Series</td>\n",
       "      <td>7.45</td>\n",
       "      <td>Comedy</td>\n",
       "      <td>ONA</td>\n",
       "      <td>48.0</td>\n",
       "      <td>Studio Deen</td>\n",
       "      <td>PG-13 - Teens 13 or older</td>\n",
       "      <td>1888.0</td>\n",
       "      <td>1833</td>\n",
       "      <td>826</td>\n",
       "      <td>56569.0</td>\n",
       "    </tr>\n",
       "  </tbody>\n",
       "</table>\n",
       "</div>"
      ],
      "text/plain": [
       "       anime_id                                    Name Score  \\\n",
       "23377     53367  Shen Lan Qi Yu Wushuang Zhu 2nd Season   7.0   \n",
       "408         435                   Magic Knight Rayearth  7.47   \n",
       "5377       8479                    Hetalia World Series  7.45   \n",
       "\n",
       "                                  Genres Type Episodes              Studios  \\\n",
       "23377                    Action, Fantasy  ONA     15.0              CG Year   \n",
       "408    Adventure, Comedy, Drama, Fantasy   TV     20.0  Tokyo Movie Shinsha   \n",
       "5377                              Comedy  ONA     48.0          Studio Deen   \n",
       "\n",
       "                          Rating    Rank  Popularity  Favorites Scored By  \n",
       "23377  PG-13 - Teens 13 or older  3983.0       15468          4     122.0  \n",
       "408    PG-13 - Teens 13 or older  1816.0        2492        547   27916.0  \n",
       "5377   PG-13 - Teens 13 or older  1888.0        1833        826   56569.0  "
      ]
     },
     "execution_count": 265,
     "metadata": {},
     "output_type": "execute_result"
    }
   ],
   "source": [
    "cols = df.columns\n",
    "\n",
    "for c in cols:\n",
    "    df[c] = df[c].replace('UNKNOWN', np.nan)\n",
    "\n",
    "df = df.dropna()\n",
    "df.sample(3)"
   ]
  },
  {
   "cell_type": "markdown",
   "metadata": {},
   "source": [
    "- Podemos converter de antemão as features para seus respectivos tipos"
   ]
  },
  {
   "cell_type": "code",
   "execution_count": 266,
   "metadata": {},
   "outputs": [],
   "source": [
    "df['Score'] = df['Score'].astype('float') \n",
    "df['Scored By'] = df['Scored By'].astype('float') \n",
    "df['Episodes'] = df['Episodes'].astype('float')\n",
    "df['Rank'] = df['Rank'].astype('float')\n",
    "df['Genres'] = df['Genres'].astype('str')\n",
    "df['Type'] = df['Type'].astype('str')"
   ]
  },
  {
   "cell_type": "markdown",
   "metadata": {},
   "source": [
    "- Checando novamente as informações da colunas"
   ]
  },
  {
   "cell_type": "code",
   "execution_count": 267,
   "metadata": {},
   "outputs": [
    {
     "name": "stdout",
     "output_type": "stream",
     "text": [
      "<class 'pandas.core.frame.DataFrame'>\n",
      "Index: 9992 entries, 0 to 24590\n",
      "Data columns (total 12 columns):\n",
      " #   Column      Non-Null Count  Dtype  \n",
      "---  ------      --------------  -----  \n",
      " 0   anime_id    9992 non-null   int64  \n",
      " 1   Name        9992 non-null   object \n",
      " 2   Score       9992 non-null   float64\n",
      " 3   Genres      9992 non-null   object \n",
      " 4   Type        9992 non-null   object \n",
      " 5   Episodes    9992 non-null   float64\n",
      " 6   Studios     9992 non-null   object \n",
      " 7   Rating      9992 non-null   object \n",
      " 8   Rank        9992 non-null   float64\n",
      " 9   Popularity  9992 non-null   int64  \n",
      " 10  Favorites   9992 non-null   int64  \n",
      " 11  Scored By   9992 non-null   float64\n",
      "dtypes: float64(4), int64(3), object(5)\n",
      "memory usage: 1014.8+ KB\n"
     ]
    }
   ],
   "source": [
    "df.info()"
   ]
  },
  {
   "cell_type": "markdown",
   "metadata": {},
   "source": [
    "- Vamos ter uma visão geral sobre as colunas númericas (arredondando os valores para duas casas decimais)"
   ]
  },
  {
   "cell_type": "code",
   "execution_count": 268,
   "metadata": {},
   "outputs": [
    {
     "data": {
      "text/html": [
       "<div>\n",
       "<style scoped>\n",
       "    .dataframe tbody tr th:only-of-type {\n",
       "        vertical-align: middle;\n",
       "    }\n",
       "\n",
       "    .dataframe tbody tr th {\n",
       "        vertical-align: top;\n",
       "    }\n",
       "\n",
       "    .dataframe thead th {\n",
       "        text-align: right;\n",
       "    }\n",
       "</style>\n",
       "<table border=\"1\" class=\"dataframe\">\n",
       "  <thead>\n",
       "    <tr style=\"text-align: right;\">\n",
       "      <th></th>\n",
       "      <th>anime_id</th>\n",
       "      <th>Score</th>\n",
       "      <th>Episodes</th>\n",
       "      <th>Rank</th>\n",
       "      <th>Popularity</th>\n",
       "      <th>Favorites</th>\n",
       "      <th>Scored By</th>\n",
       "    </tr>\n",
       "  </thead>\n",
       "  <tbody>\n",
       "    <tr>\n",
       "      <th>count</th>\n",
       "      <td>9992.00</td>\n",
       "      <td>9992.00</td>\n",
       "      <td>9992.00</td>\n",
       "      <td>9992.00</td>\n",
       "      <td>9992.00</td>\n",
       "      <td>9992.00</td>\n",
       "      <td>9992.00</td>\n",
       "    </tr>\n",
       "    <tr>\n",
       "      <th>mean</th>\n",
       "      <td>19858.76</td>\n",
       "      <td>6.71</td>\n",
       "      <td>14.26</td>\n",
       "      <td>5466.36</td>\n",
       "      <td>6152.94</td>\n",
       "      <td>1041.05</td>\n",
       "      <td>45894.30</td>\n",
       "    </tr>\n",
       "    <tr>\n",
       "      <th>std</th>\n",
       "      <td>16883.37</td>\n",
       "      <td>0.84</td>\n",
       "      <td>42.37</td>\n",
       "      <td>3380.29</td>\n",
       "      <td>4177.80</td>\n",
       "      <td>6528.39</td>\n",
       "      <td>143487.49</td>\n",
       "    </tr>\n",
       "    <tr>\n",
       "      <th>min</th>\n",
       "      <td>1.00</td>\n",
       "      <td>1.85</td>\n",
       "      <td>1.00</td>\n",
       "      <td>1.00</td>\n",
       "      <td>1.00</td>\n",
       "      <td>0.00</td>\n",
       "      <td>103.00</td>\n",
       "    </tr>\n",
       "    <tr>\n",
       "      <th>25%</th>\n",
       "      <td>3294.25</td>\n",
       "      <td>6.15</td>\n",
       "      <td>1.00</td>\n",
       "      <td>2568.75</td>\n",
       "      <td>2560.75</td>\n",
       "      <td>3.00</td>\n",
       "      <td>973.50</td>\n",
       "    </tr>\n",
       "    <tr>\n",
       "      <th>50%</th>\n",
       "      <td>14903.00</td>\n",
       "      <td>6.72</td>\n",
       "      <td>6.00</td>\n",
       "      <td>5232.00</td>\n",
       "      <td>5481.00</td>\n",
       "      <td>20.00</td>\n",
       "      <td>4797.00</td>\n",
       "    </tr>\n",
       "    <tr>\n",
       "      <th>75%</th>\n",
       "      <td>35557.50</td>\n",
       "      <td>7.29</td>\n",
       "      <td>13.00</td>\n",
       "      <td>8130.00</td>\n",
       "      <td>9452.25</td>\n",
       "      <td>170.00</td>\n",
       "      <td>27510.25</td>\n",
       "    </tr>\n",
       "    <tr>\n",
       "      <th>max</th>\n",
       "      <td>55355.00</td>\n",
       "      <td>9.10</td>\n",
       "      <td>1818.00</td>\n",
       "      <td>12701.00</td>\n",
       "      <td>19191.00</td>\n",
       "      <td>217606.00</td>\n",
       "      <td>2660903.00</td>\n",
       "    </tr>\n",
       "  </tbody>\n",
       "</table>\n",
       "</div>"
      ],
      "text/plain": [
       "       anime_id    Score  Episodes      Rank  Popularity  Favorites  \\\n",
       "count   9992.00  9992.00   9992.00   9992.00     9992.00    9992.00   \n",
       "mean   19858.76     6.71     14.26   5466.36     6152.94    1041.05   \n",
       "std    16883.37     0.84     42.37   3380.29     4177.80    6528.39   \n",
       "min        1.00     1.85      1.00      1.00        1.00       0.00   \n",
       "25%     3294.25     6.15      1.00   2568.75     2560.75       3.00   \n",
       "50%    14903.00     6.72      6.00   5232.00     5481.00      20.00   \n",
       "75%    35557.50     7.29     13.00   8130.00     9452.25     170.00   \n",
       "max    55355.00     9.10   1818.00  12701.00    19191.00  217606.00   \n",
       "\n",
       "        Scored By  \n",
       "count     9992.00  \n",
       "mean     45894.30  \n",
       "std     143487.49  \n",
       "min        103.00  \n",
       "25%        973.50  \n",
       "50%       4797.00  \n",
       "75%      27510.25  \n",
       "max    2660903.00  "
      ]
     },
     "execution_count": 268,
     "metadata": {},
     "output_type": "execute_result"
    }
   ],
   "source": [
    "df.describe().round(2)"
   ]
  },
  {
   "cell_type": "markdown",
   "metadata": {},
   "source": [
    "### Analisando as features individualmente"
   ]
  },
  {
   "cell_type": "markdown",
   "metadata": {},
   "source": [
    "##### Genre"
   ]
  },
  {
   "cell_type": "code",
   "execution_count": 269,
   "metadata": {},
   "outputs": [
    {
     "data": {
      "text/plain": [
       "Genres\n",
       "Comedy                                                       921\n",
       "Action, Sci-Fi                                               341\n",
       "Action, Adventure, Fantasy                                   295\n",
       "Comedy, Slice of Life                                        285\n",
       "Action                                                       265\n",
       "                                                            ... \n",
       "Adventure, Fantasy, Suspense                                   1\n",
       "Award Winning, Comedy, Drama, Slice of Life, Supernatural      1\n",
       "Adventure, Comedy, Fantasy, Supernatural, Ecchi                1\n",
       "Adventure, Fantasy, Girls Love, Mystery, Ecchi                 1\n",
       "Fantasy, Sports                                                1\n",
       "Name: count, Length: 823, dtype: int64"
      ]
     },
     "execution_count": 269,
     "metadata": {},
     "output_type": "execute_result"
    }
   ],
   "source": [
    "df[\"Genres\"].value_counts() "
   ]
  },
  {
   "cell_type": "markdown",
   "metadata": {},
   "source": [
    "- Resumo geral da feature `\"Genres\"`, os diversos gêneros estão sendo tratados como uma única string, portando, temos que realizar algumas operações antes de nos aprofundar nisso"
   ]
  },
  {
   "cell_type": "code",
   "execution_count": 270,
   "metadata": {},
   "outputs": [
    {
     "name": "stdout",
     "output_type": "stream",
     "text": [
      "1 - comedy: 4263\n",
      "2 - action: 3519\n",
      "3 - fantasy: 2655\n",
      "4 - adventure: 2334\n",
      "5 - sci-fi: 2175\n",
      "6 - drama: 1903\n",
      "7 - romance: 1616\n",
      "8 - supernatural: 1063\n",
      "9 - slice of life: 930\n",
      "10 - ecchi: 725\n",
      "11 - mystery: 687\n",
      "12 - sports: 489\n",
      "13 - horror: 333\n",
      "14 - award winning: 170\n",
      "15 - suspense: 159\n",
      "16 - boys love: 98\n",
      "17 - gourmet: 89\n",
      "18 - girls love: 83\n",
      "19 - avant garde: 73\n"
     ]
    }
   ],
   "source": [
    "# Dicionário para armazenar a contagem de cada gênero\n",
    "genero_contagem = {}\n",
    "\n",
    "# Iterar sobre cada linha da coluna 'Genres'\n",
    "for generos in df['Genres']:\n",
    "    # Dividir a string de gêneros em uma lista separada por vírgulas\n",
    "    generos_lista = generos.split(',')\n",
    "    # Iterar sobre cada gênero na lista\n",
    "    for genero in generos_lista:\n",
    "        # Remover espaços em branco extras e converter para minúsculas\n",
    "        genero = genero.strip().lower()\n",
    "        genero_contagem[genero] = genero_contagem.get(genero, 0) + 1\n",
    "\n",
    "# Ordena em ordem decrescente\n",
    "sorted_genres = sorted(genero_contagem.items(), key=lambda x: x[1], reverse=True)\n",
    "\n",
    "# Imprime todos os gêneros e sua frequência\n",
    "for i, (genero, contagem) in enumerate(sorted_genres, start=1):\n",
    "    print(f'{i} - {genero}: {contagem}')\n"
   ]
  },
  {
   "cell_type": "markdown",
   "metadata": {},
   "source": [
    "\n",
    "- Plotando os gêneros para melhor visualização dos dados limpos"
   ]
  },
  {
   "cell_type": "code",
   "execution_count": 271,
   "metadata": {},
   "outputs": [
    {
     "data": {
      "image/png": "[encoded data removed]",
      "text/plain": [
       "<Figure size 1000x800 with 1 Axes>"
      ]
     },
     "metadata": {},
     "output_type": "display_data"
    }
   ],
   "source": [
    "df_genres = pd.DataFrame(sorted_genres, columns=['Genero', 'Contagem'])\n",
    "\n",
    "cores = sns.color_palette(\"pastel6\", len(df_genres))\n",
    "\n",
    "plt.figure(figsize=(10, 8))\n",
    "sns.barplot(x='Contagem', y='Genero', data=df_genres, palette=cores)\n",
    "plt.title('Contagem de Gêneros de Anime')\n",
    "plt.xlabel('Contagem')\n",
    "plt.ylabel('Gênero')\n",
    "plt.show();"
   ]
  },
  {
   "cell_type": "markdown",
   "metadata": {},
   "source": [
    "##### Score"
   ]
  },
  {
   "cell_type": "markdown",
   "metadata": {},
   "source": [
    "Vamos ter uma visão geral sobre `Score`"
   ]
  },
  {
   "cell_type": "code",
   "execution_count": 272,
   "metadata": {},
   "outputs": [
    {
     "data": {
      "text/plain": [
       "count    9992.000\n",
       "mean        6.708\n",
       "std         0.837\n",
       "min         1.850\n",
       "25%         6.150\n",
       "50%         6.720\n",
       "75%         7.290\n",
       "max         9.100\n",
       "Name: Score, dtype: float64"
      ]
     },
     "execution_count": 272,
     "metadata": {},
     "output_type": "execute_result"
    }
   ],
   "source": [
    "df['Score'].describe().round(3)"
   ]
  },
  {
   "cell_type": "code",
   "execution_count": 273,
   "metadata": {},
   "outputs": [
    {
     "data": {
      "image/png": "[encoded data removed]",
      "text/plain": [
       "<Figure size 1400x500 with 2 Axes>"
      ]
     },
     "metadata": {},
     "output_type": "display_data"
    }
   ],
   "source": [
    "fig, axes = plt.subplots(1, 2, figsize=(14, 5))\n",
    "\n",
    "# Gráfico de Barras - lado esquerdo\n",
    "sns.histplot(data=df, x='Score', ax=axes[0])  \n",
    "axes[0].set_title('Distribuição das Notas')\n",
    "\n",
    "# Gráfico Boxplot - lado direito\n",
    "sns.boxplot(data=df, x='Score', ax=axes[1], )  \n",
    "axes[1].set_title('Boxplot das Notas')\n",
    "\n",
    "# Epaçamentos gráficos\n",
    "plt.tight_layout()\n",
    "plt.show()\n"
   ]
  },
  {
   "cell_type": "markdown",
   "metadata": {},
   "source": [
    "- Temos uma distribuição que se consentra perto dos 6 a 7 \n",
    "\n",
    "- No Boxpot podemos ver que exitem bastente outliers para notas menores de 4 e para isso teremos que conferir se existe um motivo\n",
    "\n",
    "- Vamos ver quantas notas abaixo de 4 temos em nossos dados"
   ]
  },
  {
   "cell_type": "code",
   "execution_count": 274,
   "metadata": {},
   "outputs": [
    {
     "name": "stdout",
     "output_type": "stream",
     "text": [
      "Total de animes com um score baixo: 24\n"
     ]
    }
   ],
   "source": [
    "low_score = df[df['Score'] < 4]['anime_id'].count()\n",
    "print(f\"Total de animes com um score baixo: {low_score}\")"
   ]
  },
  {
   "cell_type": "code",
   "execution_count": 275,
   "metadata": {},
   "outputs": [
    {
     "data": {
      "text/html": [
       "<div>\n",
       "<style scoped>\n",
       "    .dataframe tbody tr th:only-of-type {\n",
       "        vertical-align: middle;\n",
       "    }\n",
       "\n",
       "    .dataframe tbody tr th {\n",
       "        vertical-align: top;\n",
       "    }\n",
       "\n",
       "    .dataframe thead th {\n",
       "        text-align: right;\n",
       "    }\n",
       "</style>\n",
       "<table border=\"1\" class=\"dataframe\">\n",
       "  <thead>\n",
       "    <tr style=\"text-align: right;\">\n",
       "      <th></th>\n",
       "      <th>Score</th>\n",
       "      <th>Favorites</th>\n",
       "      <th>Popularity</th>\n",
       "      <th>Scored By</th>\n",
       "      <th>Rank</th>\n",
       "    </tr>\n",
       "  </thead>\n",
       "  <tbody>\n",
       "    <tr>\n",
       "      <th>count</th>\n",
       "      <td>24.00</td>\n",
       "      <td>24.00</td>\n",
       "      <td>24.00</td>\n",
       "      <td>24.00</td>\n",
       "      <td>24.00</td>\n",
       "    </tr>\n",
       "    <tr>\n",
       "      <th>mean</th>\n",
       "      <td>3.31</td>\n",
       "      <td>52.21</td>\n",
       "      <td>6740.79</td>\n",
       "      <td>12609.25</td>\n",
       "      <td>12662.29</td>\n",
       "    </tr>\n",
       "    <tr>\n",
       "      <th>std</th>\n",
       "      <td>0.53</td>\n",
       "      <td>88.73</td>\n",
       "      <td>2905.08</td>\n",
       "      <td>22933.55</td>\n",
       "      <td>24.92</td>\n",
       "    </tr>\n",
       "    <tr>\n",
       "      <th>min</th>\n",
       "      <td>1.85</td>\n",
       "      <td>1.00</td>\n",
       "      <td>1206.00</td>\n",
       "      <td>598.00</td>\n",
       "      <td>12616.00</td>\n",
       "    </tr>\n",
       "    <tr>\n",
       "      <th>25%</th>\n",
       "      <td>3.08</td>\n",
       "      <td>5.75</td>\n",
       "      <td>4848.75</td>\n",
       "      <td>2059.00</td>\n",
       "      <td>12641.25</td>\n",
       "    </tr>\n",
       "    <tr>\n",
       "      <th>50%</th>\n",
       "      <td>3.34</td>\n",
       "      <td>16.50</td>\n",
       "      <td>7370.00</td>\n",
       "      <td>2672.00</td>\n",
       "      <td>12667.00</td>\n",
       "    </tr>\n",
       "    <tr>\n",
       "      <th>75%</th>\n",
       "      <td>3.74</td>\n",
       "      <td>42.25</td>\n",
       "      <td>8415.25</td>\n",
       "      <td>9533.75</td>\n",
       "      <td>12681.75</td>\n",
       "    </tr>\n",
       "    <tr>\n",
       "      <th>max</th>\n",
       "      <td>3.97</td>\n",
       "      <td>295.00</td>\n",
       "      <td>12363.00</td>\n",
       "      <td>101649.00</td>\n",
       "      <td>12701.00</td>\n",
       "    </tr>\n",
       "  </tbody>\n",
       "</table>\n",
       "</div>"
      ],
      "text/plain": [
       "       Score  Favorites  Popularity  Scored By      Rank\n",
       "count  24.00      24.00       24.00      24.00     24.00\n",
       "mean    3.31      52.21     6740.79   12609.25  12662.29\n",
       "std     0.53      88.73     2905.08   22933.55     24.92\n",
       "min     1.85       1.00     1206.00     598.00  12616.00\n",
       "25%     3.08       5.75     4848.75    2059.00  12641.25\n",
       "50%     3.34      16.50     7370.00    2672.00  12667.00\n",
       "75%     3.74      42.25     8415.25    9533.75  12681.75\n",
       "max     3.97     295.00    12363.00  101649.00  12701.00"
      ]
     },
     "execution_count": 275,
     "metadata": {},
     "output_type": "execute_result"
    }
   ],
   "source": [
    "df[df['Score'] < 4][['Score', 'Favorites', 'Popularity', 'Scored By', 'Rank']].describe().round(2)"
   ]
  },
  {
   "cell_type": "markdown",
   "metadata": {},
   "source": [
    "- Podemos ver que todas as carcacterísticas desses animes são ruins, portando, esses outliers fazem sentido\n",
    "\n",
    "- Dessa maneira, não é necessário realizar nenhuma operação"
   ]
  },
  {
   "cell_type": "markdown",
   "metadata": {},
   "source": [
    "#### Type\n",
    "\n",
    "- Vamos explorar os tipos existentes de animações orientais\n",
    "\n",
    "- Se houver alguma inconsistência lidaremos com ela"
   ]
  },
  {
   "cell_type": "code",
   "execution_count": 276,
   "metadata": {},
   "outputs": [
    {
     "name": "stdout",
     "output_type": "stream",
     "text": [
      "['TV' 'Movie' 'OVA' 'Special' 'ONA']\n"
     ]
    }
   ],
   "source": [
    "print(df['Type'].unique())"
   ]
  },
  {
   "cell_type": "markdown",
   "metadata": {},
   "source": [
    "Temos 6 variedades: \n",
    "\n",
    "1. **TV (Televisão)**: Refere-se aos animes produzidos para transmissão na televisão. Eles geralmente têm episódios mais longos e seguem um formato de série.\n",
    "\n",
    "2. **Movie (Filme)**: Animes feitos para exibição nos cinemas. Eles são muitas vezes produções mais elaboradas e têm uma duração maior do que os episódios de TV.\n",
    "\n",
    "3. **OVA (Original Video Animation)**: São animes lançados diretamente para o mercado de home video, sem serem exibidos na TV. Eles podem ser histórias complementares, spin-offs ou adaptações de mangás.\n",
    "\n",
    "4. **Special (Especial)**: Esses são episódios únicos ou especiais de animes que não se encaixam necessariamente na sequência principal da série. Eles podem ser lançados como bônus com DVDs, eventos especiais ou ocasiões comemorativas.\n",
    "\n",
    "5. **ONA (Original Net Animation)**: Animes produzidos para distribuição online. Eles são lançados em plataformas de streaming ou websites, em vez de serem exibidos na televisão.\n",
    "\n",
    "6. **Music (Música)**: Neste contexto, refere-se a vídeos musicais baseados em animes, muitas vezes apresentando músicas tema da série ou personagens cantando. Eles podem ser lançados como parte de um DVD ou separadamente para promover a série.\n"
   ]
  },
  {
   "cell_type": "markdown",
   "metadata": {},
   "source": [
    "##### Ver as distribuição dos tipos "
   ]
  },
  {
   "cell_type": "code",
   "execution_count": 277,
   "metadata": {},
   "outputs": [
    {
     "name": "stdout",
     "output_type": "stream",
     "text": [
      "Type\n",
      "TV         4099\n",
      "OVA        1583\n",
      "Special    1583\n",
      "Movie      1561\n",
      "ONA        1166\n",
      "Name: count, dtype: int64\n"
     ]
    }
   ],
   "source": [
    "counts = df['Type'].value_counts()\n",
    "print(counts)"
   ]
  },
  {
   "cell_type": "markdown",
   "metadata": {},
   "source": [
    "- Plotando em gráfico de barras para ficar mais fácil de visualizar"
   ]
  },
  {
   "cell_type": "code",
   "execution_count": 278,
   "metadata": {},
   "outputs": [
    {
     "data": {
      "image/png": "[encoded data removed]",
      "text/plain": [
       "<Figure size 1000x500 with 1 Axes>"
      ]
     },
     "metadata": {},
     "output_type": "display_data"
    }
   ],
   "source": [
    "plt.figure(figsize=(10, 5))\n",
    "cores = sns.color_palette(\"pastel6\", len(counts))\n",
    "sns.barplot(x=counts.index, y=counts.values, palette=cores)\n",
    "\n",
    "# Adicionando rótulos aos eixos\n",
    "plt.xlabel('Tipo')\n",
    "plt.ylabel('Total')\n",
    "plt.show();"
   ]
  }
 ],
 "metadata": {
  "kernelspec": {
   "display_name": ".venv",
   "language": "python",
   "name": "python3"
  },
  "language_info": {
   "codemirror_mode": {
    "name": "ipython",
    "version": 3
   },
   "file_extension": ".py",
   "mimetype": "text/x-python",
   "name": "python",
   "nbconvert_exporter": "python",
   "pygments_lexer": "ipython3",
   "version": "3.10.12"
  }
 },
 "nbformat": 4,
 "nbformat_minor": 2
}
