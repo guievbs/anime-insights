{
 "cells": [
  {
   "cell_type": "markdown",
   "metadata": {},
   "source": [
    "### Os dados utilizados neste trabalho foram fornecidos por [Sajid - dbdmobile](https://www.kaggle.com/datasets/dbdmobile/myanimelist-dataset)\n",
    "#### Rótulos de Conteúdo (Traduzidos do Inglês):\n",
    "\n",
    "- `anime_id`: Identificação única para cada anime.\n",
    "\n",
    "- `Name`: O nome do anime em seu idioma original.\n",
    "\n",
    "- `English name`: O nome em inglês do anime.\n",
    "\n",
    "- `Other name`: Nome nativo ou título do anime (pode estar em japonês, chinês ou coreano).\n",
    "\n",
    "- `Score`: A pontuação ou classificação atribuída ao anime.\n",
    "\n",
    "- `Genres`: Os gêneros do anime, separados por vírgulas.\n",
    "\n",
    "- `Synopsis`: Uma breve descrição ou resumo do enredo do anime.\n",
    "\n",
    "- `Type`: O tipo de anime (por exemplo, série de TV, filme, OVA, etc.).\n",
    "\n",
    "- `Episodes`: O número de episódios no anime.\n",
    "\n",
    "- `Aired`: As datas em que o anime foi ao ar.\n",
    "\n",
    "- `Premiered`: A temporada e o ano em que o anime estreou.\n",
    "\n",
    "- `Status`: O status do anime (por exemplo, Finalizado, Atualmente em exibição, etc.).\n",
    "\n",
    "- `Producers`: As empresas de produção ou produtores do anime.\n",
    "\n",
    "- `Licensors`: Os licenciadores do anime (por exemplo, plataformas de streaming).\n",
    "\n",
    "- `Studios`: Os estúdios de animação que trabalharam no anime.\n",
    "\n",
    "- `Source`: O material de origem do anime (por exemplo, mangá, light novel, original).\n",
    "\n",
    "- `Duration`: A duração de cada episódio.\n",
    "\n",
    "- `Rating`: A classificação etária do anime.\n",
    "\n",
    "- `Rank`: A posição do anime com base em popularidade ou outros critérios.\n",
    "\n",
    "- `Popularity`: A classificação de popularidade do anime.\n",
    "\n",
    "- `Favorites`: O número de vezes que o anime foi marcado como favorito pelos usuários.\n",
    "\n",
    "- `Scored By`: O número de usuários que deram uma pontuação ao anime.\n",
    "\n",
    "- `Members`: O número de membros que adicionaram o anime à sua lista na plataforma.\n",
    "\n",
    "- `Image URL`: A URL da imagem ou poster do anime.\n"
   ]
  },
  {
   "cell_type": "markdown",
   "metadata": {},
   "source": [
    "### Importando as bibliotecas e fazendo as configurações"
   ]
  },
  {
   "cell_type": "code",
   "execution_count": 253,
   "metadata": {},
   "outputs": [],
   "source": [
    "import numpy as np\n",
    "import pandas as pd\n",
    "import matplotlib.pyplot as plt\n",
    "import seaborn as sns\n",
    "import warnings \n",
    "\n",
    "# Usando uma paleta predefinida\n",
    "sns.set_palette(\"pastel6\")\n",
    "warnings.filterwarnings('ignore')\n",
    "%matplotlib inline"
   ]
  },
  {
   "cell_type": "markdown",
   "metadata": {},
   "source": [
    "### Extraindo os dados e começando a análise"
   ]
  },
  {
   "cell_type": "code",
   "execution_count": 254,
   "metadata": {},
   "outputs": [
    {
     "data": {
      "text/html": [
       "<div>\n",
       "<style scoped>\n",
       "    .dataframe tbody tr th:only-of-type {\n",
       "        vertical-align: middle;\n",
       "    }\n",
       "\n",
       "    .dataframe tbody tr th {\n",
       "        vertical-align: top;\n",
       "    }\n",
       "\n",
       "    .dataframe thead th {\n",
       "        text-align: right;\n",
       "    }\n",
       "</style>\n",
       "<table border=\"1\" class=\"dataframe\">\n",
       "  <thead>\n",
       "    <tr style=\"text-align: right;\">\n",
       "      <th></th>\n",
       "      <th>anime_id</th>\n",
       "      <th>Name</th>\n",
       "      <th>English name</th>\n",
       "      <th>Other name</th>\n",
       "      <th>Score</th>\n",
       "      <th>Genres</th>\n",
       "      <th>Synopsis</th>\n",
       "      <th>Type</th>\n",
       "      <th>Episodes</th>\n",
       "      <th>Aired</th>\n",
       "      <th>...</th>\n",
       "      <th>Studios</th>\n",
       "      <th>Source</th>\n",
       "      <th>Duration</th>\n",
       "      <th>Rating</th>\n",
       "      <th>Rank</th>\n",
       "      <th>Popularity</th>\n",
       "      <th>Favorites</th>\n",
       "      <th>Scored By</th>\n",
       "      <th>Members</th>\n",
       "      <th>Image URL</th>\n",
       "    </tr>\n",
       "  </thead>\n",
       "  <tbody>\n",
       "    <tr>\n",
       "      <th>23957</th>\n",
       "      <td>54296</td>\n",
       "      <td>Kawa Nagu Kasouba</td>\n",
       "      <td>The River Was Calm</td>\n",
       "      <td>川凪ぐ火葬場</td>\n",
       "      <td>UNKNOWN</td>\n",
       "      <td>Drama</td>\n",
       "      <td>A boy comes to terms with the loss of his brot...</td>\n",
       "      <td>Movie</td>\n",
       "      <td>1.0</td>\n",
       "      <td>2022</td>\n",
       "      <td>...</td>\n",
       "      <td>UNKNOWN</td>\n",
       "      <td>Original</td>\n",
       "      <td>12 min</td>\n",
       "      <td>PG-13 - Teens 13 or older</td>\n",
       "      <td>17200.0</td>\n",
       "      <td>22017</td>\n",
       "      <td>0</td>\n",
       "      <td>UNKNOWN</td>\n",
       "      <td>62</td>\n",
       "      <td>https://cdn.myanimelist.net/images/anime/1198/...</td>\n",
       "    </tr>\n",
       "    <tr>\n",
       "      <th>1516</th>\n",
       "      <td>1668</td>\n",
       "      <td>Bakuten Shoot Beyblade G Revolution</td>\n",
       "      <td>Beyblade G Revolution</td>\n",
       "      <td>爆転シュート　ベイブレードＧレボリューション</td>\n",
       "      <td>6.94</td>\n",
       "      <td>Action, Adventure, Comedy, Sci-Fi, Sports</td>\n",
       "      <td>After keeping their BitBeasts out of harm's wa...</td>\n",
       "      <td>TV</td>\n",
       "      <td>52.0</td>\n",
       "      <td>Jan 6, 2003 to Dec 29, 2003</td>\n",
       "      <td>...</td>\n",
       "      <td>Nippon Animation</td>\n",
       "      <td>Manga</td>\n",
       "      <td>20 min per ep</td>\n",
       "      <td>PG - Children</td>\n",
       "      <td>4237.0</td>\n",
       "      <td>2993</td>\n",
       "      <td>215</td>\n",
       "      <td>29339.0</td>\n",
       "      <td>47267</td>\n",
       "      <td>https://cdn.myanimelist.net/images/anime/1237/...</td>\n",
       "    </tr>\n",
       "  </tbody>\n",
       "</table>\n",
       "<p>2 rows × 24 columns</p>\n",
       "</div>"
      ],
      "text/plain": [
       "       anime_id                                 Name           English name  \\\n",
       "23957     54296                    Kawa Nagu Kasouba     The River Was Calm   \n",
       "1516       1668  Bakuten Shoot Beyblade G Revolution  Beyblade G Revolution   \n",
       "\n",
       "                   Other name    Score  \\\n",
       "23957                  川凪ぐ火葬場  UNKNOWN   \n",
       "1516   爆転シュート　ベイブレードＧレボリューション     6.94   \n",
       "\n",
       "                                          Genres  \\\n",
       "23957                                      Drama   \n",
       "1516   Action, Adventure, Comedy, Sci-Fi, Sports   \n",
       "\n",
       "                                                Synopsis   Type Episodes  \\\n",
       "23957  A boy comes to terms with the loss of his brot...  Movie      1.0   \n",
       "1516   After keeping their BitBeasts out of harm's wa...     TV     52.0   \n",
       "\n",
       "                             Aired  ...           Studios    Source  \\\n",
       "23957                         2022  ...           UNKNOWN  Original   \n",
       "1516   Jan 6, 2003 to Dec 29, 2003  ...  Nippon Animation     Manga   \n",
       "\n",
       "            Duration                     Rating     Rank Popularity Favorites  \\\n",
       "23957         12 min  PG-13 - Teens 13 or older  17200.0      22017         0   \n",
       "1516   20 min per ep              PG - Children   4237.0       2993       215   \n",
       "\n",
       "      Scored By Members                                          Image URL  \n",
       "23957   UNKNOWN      62  https://cdn.myanimelist.net/images/anime/1198/...  \n",
       "1516    29339.0   47267  https://cdn.myanimelist.net/images/anime/1237/...  \n",
       "\n",
       "[2 rows x 24 columns]"
      ]
     },
     "execution_count": 254,
     "metadata": {},
     "output_type": "execute_result"
    }
   ],
   "source": [
    "path = \"../data/anime-dataset-2023.csv\"\n",
    "df = pd.read_csv(path)\n",
    "df.sample(2)"
   ]
  },
  {
   "cell_type": "code",
   "execution_count": 255,
   "metadata": {},
   "outputs": [
    {
     "name": "stdout",
     "output_type": "stream",
     "text": [
      "<class 'pandas.core.frame.DataFrame'>\n",
      "RangeIndex: 24905 entries, 0 to 24904\n",
      "Data columns (total 24 columns):\n",
      " #   Column        Non-Null Count  Dtype \n",
      "---  ------        --------------  ----- \n",
      " 0   anime_id      24905 non-null  int64 \n",
      " 1   Name          24905 non-null  object\n",
      " 2   English name  24905 non-null  object\n",
      " 3   Other name    24905 non-null  object\n",
      " 4   Score         24905 non-null  object\n",
      " 5   Genres        24905 non-null  object\n",
      " 6   Synopsis      24905 non-null  object\n",
      " 7   Type          24905 non-null  object\n",
      " 8   Episodes      24905 non-null  object\n",
      " 9   Aired         24905 non-null  object\n",
      " 10  Premiered     24905 non-null  object\n",
      " 11  Status        24905 non-null  object\n",
      " 12  Producers     24905 non-null  object\n",
      " 13  Licensors     24905 non-null  object\n",
      " 14  Studios       24905 non-null  object\n",
      " 15  Source        24905 non-null  object\n",
      " 16  Duration      24905 non-null  object\n",
      " 17  Rating        24905 non-null  object\n",
      " 18  Rank          24905 non-null  object\n",
      " 19  Popularity    24905 non-null  int64 \n",
      " 20  Favorites     24905 non-null  int64 \n",
      " 21  Scored By     24905 non-null  object\n",
      " 22  Members       24905 non-null  int64 \n",
      " 23  Image URL     24905 non-null  object\n",
      "dtypes: int64(4), object(20)\n",
      "memory usage: 4.6+ MB\n"
     ]
    }
   ],
   "source": [
    "df.info()"
   ]
  },
  {
   "cell_type": "markdown",
   "metadata": {},
   "source": [
    "#### Removendo as colunas sem utilidades para a análise\n",
    "\n",
    "Colunas que representam duração, premiação, imagem e etc..."
   ]
  },
  {
   "cell_type": "code",
   "execution_count": 256,
   "metadata": {},
   "outputs": [],
   "source": [
    "col_drop = ['Image URL', 'Members', 'Duration', 'Licensors', 'Producers', 'Status', 'Premiered', 'Synopsis', 'Other name', 'English name', 'Aired'] \n",
    "df = df.drop(columns=col_drop)"
   ]
  },
  {
   "cell_type": "markdown",
   "metadata": {},
   "source": [
    "#### Excluindo os valores nulos"
   ]
  },
  {
   "cell_type": "markdown",
   "metadata": {},
   "source": [
    "1. Trocando os valores `'UNKNOWN'` para o `np.nan` do Numpy \n",
    "\n",
    "2. Iremos remover os valores nulos, pois, estão espalhados em diversas features que representam opiniões ou são algo categórico"
   ]
  },
  {
   "cell_type": "code",
   "execution_count": 257,
   "metadata": {},
   "outputs": [
    {
     "name": "stdout",
     "output_type": "stream",
     "text": [
      "(9992, 13)\n"
     ]
    }
   ],
   "source": [
    "cols = df.columns\n",
    "\n",
    "for c in cols:\n",
    "    df[c] = df[c].replace('UNKNOWN', np.nan)\n",
    "\n",
    "df = df.dropna()\n",
    "print(df.shape)"
   ]
  },
  {
   "cell_type": "code",
   "execution_count": 258,
   "metadata": {},
   "outputs": [
    {
     "data": {
      "text/html": [
       "<div>\n",
       "<style scoped>\n",
       "    .dataframe tbody tr th:only-of-type {\n",
       "        vertical-align: middle;\n",
       "    }\n",
       "\n",
       "    .dataframe tbody tr th {\n",
       "        vertical-align: top;\n",
       "    }\n",
       "\n",
       "    .dataframe thead th {\n",
       "        text-align: right;\n",
       "    }\n",
       "</style>\n",
       "<table border=\"1\" class=\"dataframe\">\n",
       "  <thead>\n",
       "    <tr style=\"text-align: right;\">\n",
       "      <th></th>\n",
       "      <th>anime_id</th>\n",
       "      <th>Name</th>\n",
       "      <th>Score</th>\n",
       "      <th>Genres</th>\n",
       "      <th>Type</th>\n",
       "      <th>Episodes</th>\n",
       "      <th>Studios</th>\n",
       "      <th>Source</th>\n",
       "      <th>Rating</th>\n",
       "      <th>Rank</th>\n",
       "      <th>Popularity</th>\n",
       "      <th>Favorites</th>\n",
       "      <th>Scored By</th>\n",
       "    </tr>\n",
       "  </thead>\n",
       "  <tbody>\n",
       "    <tr>\n",
       "      <th>18079</th>\n",
       "      <td>44388</td>\n",
       "      <td>Biao Ren: Blades of the Guardians</td>\n",
       "      <td>7.38</td>\n",
       "      <td>Action</td>\n",
       "      <td>ONA</td>\n",
       "      <td>14.0</td>\n",
       "      <td>Colored Pencil Animation</td>\n",
       "      <td>Manga</td>\n",
       "      <td>R - 17+ (violence &amp; profanity)</td>\n",
       "      <td>2138.0</td>\n",
       "      <td>4175</td>\n",
       "      <td>287</td>\n",
       "      <td>437.0</td>\n",
       "    </tr>\n",
       "    <tr>\n",
       "      <th>2889</th>\n",
       "      <td>3231</td>\n",
       "      <td>Gunslinger Girl: Il Teatrino</td>\n",
       "      <td>7.13</td>\n",
       "      <td>Action, Drama, Sci-Fi</td>\n",
       "      <td>TV</td>\n",
       "      <td>13.0</td>\n",
       "      <td>Artland</td>\n",
       "      <td>Manga</td>\n",
       "      <td>R - 17+ (violence &amp; profanity)</td>\n",
       "      <td>3396.0</td>\n",
       "      <td>2650</td>\n",
       "      <td>111</td>\n",
       "      <td>27482.0</td>\n",
       "    </tr>\n",
       "    <tr>\n",
       "      <th>14227</th>\n",
       "      <td>37522</td>\n",
       "      <td>Pet</td>\n",
       "      <td>6.44</td>\n",
       "      <td>Mystery, Supernatural</td>\n",
       "      <td>TV</td>\n",
       "      <td>13.0</td>\n",
       "      <td>Geno Studio</td>\n",
       "      <td>Manga</td>\n",
       "      <td>R - 17+ (violence &amp; profanity)</td>\n",
       "      <td>6688.0</td>\n",
       "      <td>2051</td>\n",
       "      <td>234</td>\n",
       "      <td>28468.0</td>\n",
       "    </tr>\n",
       "  </tbody>\n",
       "</table>\n",
       "</div>"
      ],
      "text/plain": [
       "       anime_id                               Name Score  \\\n",
       "18079     44388  Biao Ren: Blades of the Guardians  7.38   \n",
       "2889       3231       Gunslinger Girl: Il Teatrino  7.13   \n",
       "14227     37522                                Pet  6.44   \n",
       "\n",
       "                      Genres Type Episodes                   Studios Source  \\\n",
       "18079                 Action  ONA     14.0  Colored Pencil Animation  Manga   \n",
       "2889   Action, Drama, Sci-Fi   TV     13.0                   Artland  Manga   \n",
       "14227  Mystery, Supernatural   TV     13.0               Geno Studio  Manga   \n",
       "\n",
       "                               Rating    Rank  Popularity  Favorites Scored By  \n",
       "18079  R - 17+ (violence & profanity)  2138.0        4175        287     437.0  \n",
       "2889   R - 17+ (violence & profanity)  3396.0        2650        111   27482.0  \n",
       "14227  R - 17+ (violence & profanity)  6688.0        2051        234   28468.0  "
      ]
     },
     "execution_count": 258,
     "metadata": {},
     "output_type": "execute_result"
    }
   ],
   "source": [
    "df.sample(3)"
   ]
  },
  {
   "cell_type": "markdown",
   "metadata": {},
   "source": [
    "- Podemos converter de antemão as features para seus respectivos tipos"
   ]
  },
  {
   "cell_type": "code",
   "execution_count": 259,
   "metadata": {},
   "outputs": [],
   "source": [
    "df['Score'] = df['Score'].astype('float') \n",
    "df['Scored By'] = df['Scored By'].astype('float') \n",
    "df['Episodes'] = df['Episodes'].astype('float')\n",
    "df['Rank'] = df['Rank'].astype('float')\n",
    "df['Genres'] = df['Genres'].astype('str')\n",
    "df['Type'] = df['Type'].astype('str')\n",
    "df['Source'] = df['Source'].astype('str')"
   ]
  },
  {
   "cell_type": "markdown",
   "metadata": {},
   "source": [
    "- Checando novamente as informações da colunas"
   ]
  },
  {
   "cell_type": "code",
   "execution_count": 260,
   "metadata": {},
   "outputs": [
    {
     "name": "stdout",
     "output_type": "stream",
     "text": [
      "<class 'pandas.core.frame.DataFrame'>\n",
      "Index: 9992 entries, 0 to 24590\n",
      "Data columns (total 13 columns):\n",
      " #   Column      Non-Null Count  Dtype  \n",
      "---  ------      --------------  -----  \n",
      " 0   anime_id    9992 non-null   int64  \n",
      " 1   Name        9992 non-null   object \n",
      " 2   Score       9992 non-null   float64\n",
      " 3   Genres      9992 non-null   object \n",
      " 4   Type        9992 non-null   object \n",
      " 5   Episodes    9992 non-null   float64\n",
      " 6   Studios     9992 non-null   object \n",
      " 7   Source      9992 non-null   object \n",
      " 8   Rating      9992 non-null   object \n",
      " 9   Rank        9992 non-null   float64\n",
      " 10  Popularity  9992 non-null   int64  \n",
      " 11  Favorites   9992 non-null   int64  \n",
      " 12  Scored By   9992 non-null   float64\n",
      "dtypes: float64(4), int64(3), object(6)\n",
      "memory usage: 1.1+ MB\n"
     ]
    }
   ],
   "source": [
    "df.info()"
   ]
  },
  {
   "cell_type": "markdown",
   "metadata": {},
   "source": [
    "- Vamos ter uma visão geral sobre as colunas númericas (arredondando os valores para duas casas decimais)"
   ]
  },
  {
   "cell_type": "code",
   "execution_count": 261,
   "metadata": {},
   "outputs": [
    {
     "data": {
      "text/html": [
       "<div>\n",
       "<style scoped>\n",
       "    .dataframe tbody tr th:only-of-type {\n",
       "        vertical-align: middle;\n",
       "    }\n",
       "\n",
       "    .dataframe tbody tr th {\n",
       "        vertical-align: top;\n",
       "    }\n",
       "\n",
       "    .dataframe thead th {\n",
       "        text-align: right;\n",
       "    }\n",
       "</style>\n",
       "<table border=\"1\" class=\"dataframe\">\n",
       "  <thead>\n",
       "    <tr style=\"text-align: right;\">\n",
       "      <th></th>\n",
       "      <th>anime_id</th>\n",
       "      <th>Score</th>\n",
       "      <th>Episodes</th>\n",
       "      <th>Rank</th>\n",
       "      <th>Popularity</th>\n",
       "      <th>Favorites</th>\n",
       "      <th>Scored By</th>\n",
       "    </tr>\n",
       "  </thead>\n",
       "  <tbody>\n",
       "    <tr>\n",
       "      <th>count</th>\n",
       "      <td>9992.00</td>\n",
       "      <td>9992.00</td>\n",
       "      <td>9992.00</td>\n",
       "      <td>9992.00</td>\n",
       "      <td>9992.00</td>\n",
       "      <td>9992.00</td>\n",
       "      <td>9992.00</td>\n",
       "    </tr>\n",
       "    <tr>\n",
       "      <th>mean</th>\n",
       "      <td>19858.76</td>\n",
       "      <td>6.71</td>\n",
       "      <td>14.26</td>\n",
       "      <td>5466.36</td>\n",
       "      <td>6152.94</td>\n",
       "      <td>1041.05</td>\n",
       "      <td>45894.30</td>\n",
       "    </tr>\n",
       "    <tr>\n",
       "      <th>std</th>\n",
       "      <td>16883.37</td>\n",
       "      <td>0.84</td>\n",
       "      <td>42.37</td>\n",
       "      <td>3380.29</td>\n",
       "      <td>4177.80</td>\n",
       "      <td>6528.39</td>\n",
       "      <td>143487.49</td>\n",
       "    </tr>\n",
       "    <tr>\n",
       "      <th>min</th>\n",
       "      <td>1.00</td>\n",
       "      <td>1.85</td>\n",
       "      <td>1.00</td>\n",
       "      <td>1.00</td>\n",
       "      <td>1.00</td>\n",
       "      <td>0.00</td>\n",
       "      <td>103.00</td>\n",
       "    </tr>\n",
       "    <tr>\n",
       "      <th>25%</th>\n",
       "      <td>3294.25</td>\n",
       "      <td>6.15</td>\n",
       "      <td>1.00</td>\n",
       "      <td>2568.75</td>\n",
       "      <td>2560.75</td>\n",
       "      <td>3.00</td>\n",
       "      <td>973.50</td>\n",
       "    </tr>\n",
       "    <tr>\n",
       "      <th>50%</th>\n",
       "      <td>14903.00</td>\n",
       "      <td>6.72</td>\n",
       "      <td>6.00</td>\n",
       "      <td>5232.00</td>\n",
       "      <td>5481.00</td>\n",
       "      <td>20.00</td>\n",
       "      <td>4797.00</td>\n",
       "    </tr>\n",
       "    <tr>\n",
       "      <th>75%</th>\n",
       "      <td>35557.50</td>\n",
       "      <td>7.29</td>\n",
       "      <td>13.00</td>\n",
       "      <td>8130.00</td>\n",
       "      <td>9452.25</td>\n",
       "      <td>170.00</td>\n",
       "      <td>27510.25</td>\n",
       "    </tr>\n",
       "    <tr>\n",
       "      <th>max</th>\n",
       "      <td>55355.00</td>\n",
       "      <td>9.10</td>\n",
       "      <td>1818.00</td>\n",
       "      <td>12701.00</td>\n",
       "      <td>19191.00</td>\n",
       "      <td>217606.00</td>\n",
       "      <td>2660903.00</td>\n",
       "    </tr>\n",
       "  </tbody>\n",
       "</table>\n",
       "</div>"
      ],
      "text/plain": [
       "       anime_id    Score  Episodes      Rank  Popularity  Favorites  \\\n",
       "count   9992.00  9992.00   9992.00   9992.00     9992.00    9992.00   \n",
       "mean   19858.76     6.71     14.26   5466.36     6152.94    1041.05   \n",
       "std    16883.37     0.84     42.37   3380.29     4177.80    6528.39   \n",
       "min        1.00     1.85      1.00      1.00        1.00       0.00   \n",
       "25%     3294.25     6.15      1.00   2568.75     2560.75       3.00   \n",
       "50%    14903.00     6.72      6.00   5232.00     5481.00      20.00   \n",
       "75%    35557.50     7.29     13.00   8130.00     9452.25     170.00   \n",
       "max    55355.00     9.10   1818.00  12701.00    19191.00  217606.00   \n",
       "\n",
       "        Scored By  \n",
       "count     9992.00  \n",
       "mean     45894.30  \n",
       "std     143487.49  \n",
       "min        103.00  \n",
       "25%        973.50  \n",
       "50%       4797.00  \n",
       "75%      27510.25  \n",
       "max    2660903.00  "
      ]
     },
     "execution_count": 261,
     "metadata": {},
     "output_type": "execute_result"
    }
   ],
   "source": [
    "df.describe().round(2)"
   ]
  },
  {
   "cell_type": "markdown",
   "metadata": {},
   "source": [
    "### Analisando as features"
   ]
  },
  {
   "cell_type": "markdown",
   "metadata": {},
   "source": [
    "#### Genre"
   ]
  },
  {
   "cell_type": "code",
   "execution_count": 262,
   "metadata": {},
   "outputs": [
    {
     "data": {
      "text/plain": [
       "Genres\n",
       "Comedy                                                       921\n",
       "Action, Sci-Fi                                               341\n",
       "Action, Adventure, Fantasy                                   295\n",
       "Comedy, Slice of Life                                        285\n",
       "Action                                                       265\n",
       "                                                            ... \n",
       "Adventure, Fantasy, Suspense                                   1\n",
       "Award Winning, Comedy, Drama, Slice of Life, Supernatural      1\n",
       "Adventure, Comedy, Fantasy, Supernatural, Ecchi                1\n",
       "Adventure, Fantasy, Girls Love, Mystery, Ecchi                 1\n",
       "Fantasy, Sports                                                1\n",
       "Name: count, Length: 823, dtype: int64"
      ]
     },
     "execution_count": 262,
     "metadata": {},
     "output_type": "execute_result"
    }
   ],
   "source": [
    "df[\"Genres\"].value_counts() "
   ]
  },
  {
   "cell_type": "markdown",
   "metadata": {},
   "source": [
    "- Resumo geral da feature `\"Genres\"`, os diversos gêneros estão sendo tratados como uma única string, portando, temos que realizar algumas operações antes de nos aprofundar nisso"
   ]
  },
  {
   "cell_type": "code",
   "execution_count": 263,
   "metadata": {},
   "outputs": [
    {
     "name": "stdout",
     "output_type": "stream",
     "text": [
      "1 - comedy: 4263\n",
      "2 - action: 3519\n",
      "3 - fantasy: 2655\n",
      "4 - adventure: 2334\n",
      "5 - sci-fi: 2175\n",
      "6 - drama: 1903\n",
      "7 - romance: 1616\n",
      "8 - supernatural: 1063\n",
      "9 - slice of life: 930\n",
      "10 - ecchi: 725\n",
      "11 - mystery: 687\n",
      "12 - sports: 489\n",
      "13 - horror: 333\n",
      "14 - award winning: 170\n",
      "15 - suspense: 159\n",
      "16 - boys love: 98\n",
      "17 - gourmet: 89\n",
      "18 - girls love: 83\n",
      "19 - avant garde: 73\n"
     ]
    }
   ],
   "source": [
    "# Dicionário para armazenar a contagem de cada gênero\n",
    "genero_contagem = {}\n",
    "\n",
    "# Iterar sobre cada linha da coluna 'Genres'\n",
    "for generos in df['Genres']:\n",
    "    # Dividir a string de gêneros em uma lista separada por vírgulas\n",
    "    generos_lista = generos.split(',')\n",
    "    # Iterar sobre cada gênero na lista\n",
    "    for genero in generos_lista:\n",
    "        # Remover espaços em branco extras e converter para minúsculas\n",
    "        genero = genero.strip().lower()\n",
    "        genero_contagem[genero] = genero_contagem.get(genero, 0) + 1\n",
    "\n",
    "# Ordena em ordem decrescente\n",
    "sorted_genres = sorted(genero_contagem.items(), key=lambda x: x[1], reverse=True)\n",
    "\n",
    "# Imprime todos os gêneros e sua frequência\n",
    "for i, (genero, contagem) in enumerate(sorted_genres, start=1):\n",
    "    print(f'{i} - {genero}: {contagem}')"
   ]
  },
  {
   "cell_type": "markdown",
   "metadata": {},
   "source": [
    "\n",
    "- Plotando os gêneros para melhor visualização dos dados limpos"
   ]
  },
  {
   "cell_type": "code",
   "execution_count": 264,
   "metadata": {},
   "outputs": [
    {
     "data": {
      "image/png": "[encoded data removed]",
      "text/plain": [
       "<Figure size 1200x800 with 1 Axes>"
      ]
     },
     "metadata": {},
     "output_type": "display_data"
    }
   ],
   "source": [
    "df_genres = pd.DataFrame(sorted_genres, columns=['Genero', 'Contagem'])\n",
    "\n",
    "f, ax = plt.subplots(figsize=(12, 8))\n",
    "\n",
    "sns.barplot(x='Contagem', y='Genero', data=df_genres, palette=\"pastel6\")\n",
    "sns.despine(left=True, bottom=True)\n",
    "\n",
    "# Rótulos\n",
    "ax.set_title('Distribuição de Gêneros de Animes', pad=15)  \n",
    "ax.set_xlabel('Quantidade de Animes', labelpad=15)  \n",
    "ax.set_ylabel('Gênero', labelpad=15)  \n",
    "\n",
    "plt.show()"
   ]
  },
  {
   "cell_type": "markdown",
   "metadata": {},
   "source": [
    "#### Score"
   ]
  },
  {
   "cell_type": "markdown",
   "metadata": {},
   "source": [
    "Vamos ter uma visão geral sobre `Score`"
   ]
  },
  {
   "cell_type": "code",
   "execution_count": 265,
   "metadata": {},
   "outputs": [
    {
     "data": {
      "text/plain": [
       "count    9992.000\n",
       "mean        6.708\n",
       "std         0.837\n",
       "min         1.850\n",
       "25%         6.150\n",
       "50%         6.720\n",
       "75%         7.290\n",
       "max         9.100\n",
       "Name: Score, dtype: float64"
      ]
     },
     "execution_count": 265,
     "metadata": {},
     "output_type": "execute_result"
    }
   ],
   "source": [
    "df['Score'].describe().round(3)"
   ]
  },
  {
   "cell_type": "code",
   "execution_count": 266,
   "metadata": {},
   "outputs": [
    {
     "data": {
      "image/png": "[encoded data removed]",
      "text/plain": [
       "<Figure size 1400x500 with 2 Axes>"
      ]
     },
     "metadata": {},
     "output_type": "display_data"
    }
   ],
   "source": [
    "f, ax = plt.subplots(1, 2, figsize=(14, 5))\n",
    "\n",
    "# Gráfico de Barras - lado esquerdo\n",
    "sns.histplot(data=df, x='Score', ax=ax[0])  \n",
    "ax[0].set_title('Distribuição das Notas', pad=10)\n",
    "\n",
    "# Gráfico Boxplot - lado direito\n",
    "sns.boxplot(data=df, x='Score', ax=ax[1])  \n",
    "ax[1].set_title('Boxplot das Notas', pad=10)\n",
    "sns.despine(bottom=True)\n",
    "\n",
    "# Padding nos rótulos dos eixos x\n",
    "ax[0].set_xlabel('Score', labelpad=10)\n",
    "ax[1].set_xlabel('Score', labelpad=10)\n",
    "\n",
    "# Padding no eixo y\n",
    "ax[0].set_ylabel('Quantidade', labelpad=10)\n",
    "\n",
    "# Epaçamentos gráficos\n",
    "plt.tight_layout()\n",
    "plt.show()"
   ]
  },
  {
   "cell_type": "markdown",
   "metadata": {},
   "source": [
    "- Temos uma distribuição que se consentra perto dos 6 a 7.5\n",
    "\n",
    "- No Boxpot podemos ver que exitem bastente outliers para notas menores de 4 e para isso teremos que conferir se existe um motivo\n",
    "\n",
    "- Vamos ver quantas notas abaixo de `4.5` temos em nossos dados"
   ]
  },
  {
   "cell_type": "code",
   "execution_count": 267,
   "metadata": {},
   "outputs": [
    {
     "name": "stdout",
     "output_type": "stream",
     "text": [
      "Total de animes com um score baixo: 58\n"
     ]
    }
   ],
   "source": [
    "low_score = df[df['Score'] < 4.5]['anime_id'].count()\n",
    "print(f\"Total de animes com um score baixo: {low_score}\")"
   ]
  },
  {
   "cell_type": "code",
   "execution_count": 268,
   "metadata": {},
   "outputs": [
    {
     "data": {
      "text/html": [
       "<div>\n",
       "<style scoped>\n",
       "    .dataframe tbody tr th:only-of-type {\n",
       "        vertical-align: middle;\n",
       "    }\n",
       "\n",
       "    .dataframe tbody tr th {\n",
       "        vertical-align: top;\n",
       "    }\n",
       "\n",
       "    .dataframe thead th {\n",
       "        text-align: right;\n",
       "    }\n",
       "</style>\n",
       "<table border=\"1\" class=\"dataframe\">\n",
       "  <thead>\n",
       "    <tr style=\"text-align: right;\">\n",
       "      <th></th>\n",
       "      <th>Score</th>\n",
       "      <th>Favorites</th>\n",
       "      <th>Popularity</th>\n",
       "      <th>Rank</th>\n",
       "    </tr>\n",
       "  </thead>\n",
       "  <tbody>\n",
       "    <tr>\n",
       "      <th>count</th>\n",
       "      <td>24.00</td>\n",
       "      <td>24.00</td>\n",
       "      <td>24.00</td>\n",
       "      <td>24.00</td>\n",
       "    </tr>\n",
       "    <tr>\n",
       "      <th>mean</th>\n",
       "      <td>3.31</td>\n",
       "      <td>52.21</td>\n",
       "      <td>6740.79</td>\n",
       "      <td>12662.29</td>\n",
       "    </tr>\n",
       "    <tr>\n",
       "      <th>std</th>\n",
       "      <td>0.53</td>\n",
       "      <td>88.73</td>\n",
       "      <td>2905.08</td>\n",
       "      <td>24.92</td>\n",
       "    </tr>\n",
       "    <tr>\n",
       "      <th>min</th>\n",
       "      <td>1.85</td>\n",
       "      <td>1.00</td>\n",
       "      <td>1206.00</td>\n",
       "      <td>12616.00</td>\n",
       "    </tr>\n",
       "    <tr>\n",
       "      <th>25%</th>\n",
       "      <td>3.08</td>\n",
       "      <td>5.75</td>\n",
       "      <td>4848.75</td>\n",
       "      <td>12641.25</td>\n",
       "    </tr>\n",
       "    <tr>\n",
       "      <th>50%</th>\n",
       "      <td>3.34</td>\n",
       "      <td>16.50</td>\n",
       "      <td>7370.00</td>\n",
       "      <td>12667.00</td>\n",
       "    </tr>\n",
       "    <tr>\n",
       "      <th>75%</th>\n",
       "      <td>3.74</td>\n",
       "      <td>42.25</td>\n",
       "      <td>8415.25</td>\n",
       "      <td>12681.75</td>\n",
       "    </tr>\n",
       "    <tr>\n",
       "      <th>max</th>\n",
       "      <td>3.97</td>\n",
       "      <td>295.00</td>\n",
       "      <td>12363.00</td>\n",
       "      <td>12701.00</td>\n",
       "    </tr>\n",
       "  </tbody>\n",
       "</table>\n",
       "</div>"
      ],
      "text/plain": [
       "       Score  Favorites  Popularity      Rank\n",
       "count  24.00      24.00       24.00     24.00\n",
       "mean    3.31      52.21     6740.79  12662.29\n",
       "std     0.53      88.73     2905.08     24.92\n",
       "min     1.85       1.00     1206.00  12616.00\n",
       "25%     3.08       5.75     4848.75  12641.25\n",
       "50%     3.34      16.50     7370.00  12667.00\n",
       "75%     3.74      42.25     8415.25  12681.75\n",
       "max     3.97     295.00    12363.00  12701.00"
      ]
     },
     "execution_count": 268,
     "metadata": {},
     "output_type": "execute_result"
    }
   ],
   "source": [
    "df[df['Score'] < 4][['Score', 'Favorites', 'Popularity', 'Rank']].describe().round(2)"
   ]
  },
  {
   "cell_type": "markdown",
   "metadata": {},
   "source": [
    "- Podemos ver que todas as carcacterísticas desses animes são ruins, portando, esses outliers fazem sentido\n",
    "\n",
    "- Dessa maneira, não é necessário realizar nenhuma operação"
   ]
  },
  {
   "cell_type": "markdown",
   "metadata": {},
   "source": [
    "#### Type"
   ]
  },
  {
   "cell_type": "markdown",
   "metadata": {},
   "source": [
    "- Vamos explorar os tipos existentes de animações orientais\n",
    "\n",
    "- Se houver alguma inconsistência lidaremos com ela"
   ]
  },
  {
   "cell_type": "code",
   "execution_count": 269,
   "metadata": {},
   "outputs": [
    {
     "name": "stdout",
     "output_type": "stream",
     "text": [
      "['TV' 'Movie' 'OVA' 'Special' 'ONA']\n"
     ]
    }
   ],
   "source": [
    "print(df['Type'].unique())"
   ]
  },
  {
   "cell_type": "markdown",
   "metadata": {},
   "source": [
    "Temos 6 variedades: \n",
    "\n",
    "1. **TV (Televisão)**: Refere-se aos animes produzidos para transmissão na televisão. Eles geralmente têm episódios mais longos e seguem um formato de série.\n",
    "\n",
    "2. **Movie (Filme)**: Animes feitos para exibição nos cinemas. Eles são muitas vezes produções mais elaboradas e têm uma duração maior do que os episódios de TV.\n",
    "\n",
    "3. **OVA (Original Video Animation)**: São animes lançados diretamente para o mercado de home video, sem serem exibidos na TV. Eles podem ser histórias complementares, spin-offs ou adaptações de mangás.\n",
    "\n",
    "4. **Special (Especial)**: Esses são episódios únicos ou especiais de animes que não se encaixam necessariamente na sequência principal da série. Eles podem ser lançados como bônus com DVDs, eventos especiais ou ocasiões comemorativas.\n",
    "\n",
    "5. **ONA (Original Net Animation)**: Animes produzidos para distribuição online. Eles são lançados em plataformas de streaming ou websites, em vez de serem exibidos na televisão.\n",
    "\n",
    "6. **Music (Música)**: Neste contexto, refere-se a vídeos musicais baseados em animes, muitas vezes apresentando músicas tema da série ou personagens cantando. Eles podem ser lançados como parte de um DVD ou separadamente para promover a série.\n"
   ]
  },
  {
   "cell_type": "markdown",
   "metadata": {},
   "source": [
    "Ver as distribuição dos tipos "
   ]
  },
  {
   "cell_type": "code",
   "execution_count": 270,
   "metadata": {},
   "outputs": [
    {
     "name": "stdout",
     "output_type": "stream",
     "text": [
      "Type\n",
      "TV         4099\n",
      "OVA        1583\n",
      "Special    1583\n",
      "Movie      1561\n",
      "ONA        1166\n",
      "Name: count, dtype: int64\n"
     ]
    }
   ],
   "source": [
    "counts = df['Type'].value_counts()\n",
    "print(counts)"
   ]
  },
  {
   "cell_type": "markdown",
   "metadata": {},
   "source": [
    "- Plotando em gráfico de barras para ficar mais fácil de visualizar"
   ]
  },
  {
   "cell_type": "code",
   "execution_count": 271,
   "metadata": {},
   "outputs": [
    {
     "data": {
      "image/png": "[encoded data removed]",
      "text/plain": [
       "<Figure size 1000x500 with 1 Axes>"
      ]
     },
     "metadata": {},
     "output_type": "display_data"
    }
   ],
   "source": [
    "f, ax = plt.subplots(figsize=(10, 5))\n",
    "\n",
    "sns.barplot(x=counts.index, y=counts.values, palette=\"pastel6\", ax=ax)\n",
    "sns.despine(left=True, bottom=True)\n",
    "\n",
    "ax.set_title('Distribuição dos Tipos de Animações', pad=10)\n",
    "\n",
    "# Rótulos aos eixos\n",
    "ax.set_ylabel(\"Quantidade de Animes\", labelpad=15)  \n",
    "ax.set_xlabel(\"Categorias de Animações\", labelpad=15)\n",
    "\n",
    "plt.show()"
   ]
  },
  {
   "cell_type": "code",
   "execution_count": 272,
   "metadata": {},
   "outputs": [],
   "source": [
    "result_tv = df[df['Type'] == 'TV']['Score'].describe().round(2)\n",
    "result_ova = df[df['Type'] == 'OVA']['Score'].describe().round(2)\n",
    "result_special = df[df['Type'] == 'Special']['Score'].describe().round(2)\n",
    "result_movie = df[df['Type'] == 'Movie']['Score'].describe().round(2)\n",
    "result_ona = df[df['Type'] == 'ONA']['Score'].describe().round(2)"
   ]
  },
  {
   "cell_type": "markdown",
   "metadata": {},
   "source": [
    "##### Tipos de Animes **Canônicos**"
   ]
  },
  {
   "cell_type": "code",
   "execution_count": 273,
   "metadata": {},
   "outputs": [
    {
     "name": "stdout",
     "output_type": "stream",
     "text": [
      "Notas dos animes lançados para a TV \n",
      "count    4099.00\n",
      "mean        6.91\n",
      "std         0.80\n",
      "min         2.90\n",
      "25%         6.41\n",
      "50%         6.94\n",
      "75%         7.43\n",
      "max         9.10\n",
      "Name: Score, dtype: float64\n",
      "----------------------------------------\n",
      "Notas dos animes lançados para os Cinemas  \n",
      "count    1561.00\n",
      "mean        6.90\n",
      "std         0.83\n",
      "min         3.73\n",
      "25%         6.32\n",
      "50%         6.96\n",
      "75%         7.49\n",
      "max         9.04\n",
      "Name: Score, dtype: float64\n"
     ]
    }
   ],
   "source": [
    "print(f\"Notas dos animes lançados para a TV \\n{result_tv}\")\n",
    "print('-' * 40)\n",
    "print(f\"Notas dos animes lançados para os Cinemas  \\n{result_movie}\")"
   ]
  },
  {
   "cell_type": "markdown",
   "metadata": {},
   "source": [
    "##### Tipos de Animes **NÃO** Canônicos\n",
    "\n",
    "- Geralmente eps extras lançados separadamente ou após o fim da série"
   ]
  },
  {
   "cell_type": "code",
   "execution_count": 274,
   "metadata": {},
   "outputs": [
    {
     "name": "stdout",
     "output_type": "stream",
     "text": [
      "Notas para os especais \n",
      "count    1583.00\n",
      "mean        6.52\n",
      "std         0.71\n",
      "min         3.35\n",
      "25%         6.06\n",
      "50%         6.52\n",
      "75%         7.01\n",
      "max         9.05\n",
      "Name: Score, dtype: float64\n"
     ]
    }
   ],
   "source": [
    "print(f\"Notas para os especais \\n{result_special}\")"
   ]
  },
  {
   "cell_type": "code",
   "execution_count": 275,
   "metadata": {},
   "outputs": [
    {
     "name": "stdout",
     "output_type": "stream",
     "text": [
      "Notas para os OVA  \n",
      "count    1583.00\n",
      "mean        6.44\n",
      "std         0.88\n",
      "min         1.85\n",
      "25%         5.86\n",
      "50%         6.45\n",
      "75%         7.12\n",
      "max         9.02\n",
      "Name: Score, dtype: float64\n",
      "----------------------------------------\n",
      "Notas para os ONA \n",
      "count    1166.00\n",
      "mean        6.35\n",
      "std         0.80\n",
      "min         3.46\n",
      "25%         5.78\n",
      "50%         6.31\n",
      "75%         6.93\n",
      "max         8.72\n",
      "Name: Score, dtype: float64\n"
     ]
    }
   ],
   "source": [
    "print(f\"Notas para os OVA  \\n{result_ova}\")\n",
    "print('-' * 40)\n",
    "print(f\"Notas para os ONA \\n{result_ona}\")"
   ]
  },
  {
   "cell_type": "markdown",
   "metadata": {},
   "source": [
    "#### Episodes"
   ]
  },
  {
   "cell_type": "code",
   "execution_count": 276,
   "metadata": {},
   "outputs": [
    {
     "data": {
      "text/plain": [
       "count    9992.00\n",
       "mean       14.26\n",
       "std        42.37\n",
       "min         1.00\n",
       "25%         1.00\n",
       "50%         6.00\n",
       "75%        13.00\n",
       "max      1818.00\n",
       "Name: Episodes, dtype: float64"
      ]
     },
     "execution_count": 276,
     "metadata": {},
     "output_type": "execute_result"
    }
   ],
   "source": [
    "df['Episodes'].describe().round(2)"
   ]
  },
  {
   "cell_type": "markdown",
   "metadata": {},
   "source": [
    "Vamos ver quais categorias de lançamento de animes tem mais produções para **TV** \n",
    "\n",
    " - **Meia Temprada** tem torno de 12 a 13 episódios\n",
    "\n",
    " - **Temprada Completa** tem torno de 24 a 26 episódios\n",
    "\n",
    " - **Anuais** maiores que uma temporada, porém tem quantidade de eps indefinida\n",
    "\n"
   ]
  },
  {
   "cell_type": "code",
   "execution_count": 277,
   "metadata": {},
   "outputs": [],
   "source": [
    "total = 4099 # total de produções para tv\n",
    "meia_temporada = df[(df['Episodes'] >= 12) & (df['Episodes'] <= 13) & (df['Type'] == 'TV')]['anime_id'].count()\n",
    "temporada_completa = df[(df['Episodes'] >= 24) & (df['Episodes'] <= 26) & (df['Type'] == 'TV')]['anime_id'].count()\n",
    "anuais = df[(df['Episodes'] > 26) & (df['Type'] == 'TV')]['anime_id'].count()"
   ]
  },
  {
   "cell_type": "code",
   "execution_count": 278,
   "metadata": {},
   "outputs": [
    {
     "name": "stdout",
     "output_type": "stream",
     "text": [
      "Animes de Meia Temporada: 2013 (49.1%)\n",
      "Animes de Temporada Completa: 771 (18.8%)\n",
      "Animes Anuais: 907 (22.1%)\n"
     ]
    }
   ],
   "source": [
    "# Calculando as porcentagens\n",
    "porcentagem_meia = (meia_temporada / total) * 100\n",
    "porcentagem_completa = (temporada_completa / total) * 100\n",
    "porcentagem_anuais = (anuais / total) * 100\n",
    "\n",
    "# Formatando e imprimindo os resultados\n",
    "print(f\"Animes de Meia Temporada: {meia_temporada} ({porcentagem_meia.round(1)}%)\")\n",
    "print(f\"Animes de Temporada Completa: {temporada_completa} ({porcentagem_completa.round(1)}%)\")\n",
    "print(f\"Animes Anuais: {anuais} ({porcentagem_anuais.round(1)}%)\")\n"
   ]
  },
  {
   "cell_type": "markdown",
   "metadata": {},
   "source": [
    "- Plotando para melhor visualização"
   ]
  },
  {
   "cell_type": "code",
   "execution_count": 279,
   "metadata": {},
   "outputs": [
    {
     "data": {
      "image/png": "[encoded data removed]",
      "text/plain": [
       "<Figure size 1000x500 with 1 Axes>"
      ]
     },
     "metadata": {},
     "output_type": "display_data"
    }
   ],
   "source": [
    "tipo_tv = ['Meia Temporada', 'Temporada Inteira', 'Anuais']\n",
    "len_tv = [meia_temporada, temporada_completa, anuais]\n",
    "\n",
    "f, ax = plt.subplots(figsize=(10, 5))\n",
    "\n",
    "sns.barplot(x=tipo_tv, y=len_tv, palette=\"pastel6\", ax=ax)\n",
    "sns.despine(left=True, bottom=True)\n",
    "\n",
    "ax.set_title('Distribuição dos Tipos de Animações', pad=10)\n",
    "\n",
    "# Rótulos aos eixos\n",
    "ax.set_ylabel(\"Frequência\", labelpad=15)  \n",
    "ax.set_xlabel(\"Duração da temporada\", labelpad=15)\n",
    "\n",
    "plt.show()"
   ]
  },
  {
   "cell_type": "markdown",
   "metadata": {},
   "source": [
    "#### Studios"
   ]
  },
  {
   "cell_type": "markdown",
   "metadata": {},
   "source": [
    "Printando os dados gerais da coluna"
   ]
  },
  {
   "cell_type": "code",
   "execution_count": 280,
   "metadata": {},
   "outputs": [
    {
     "name": "stdout",
     "output_type": "stream",
     "text": [
      "--------------------------------------------------\n",
      "count               9992\n",
      "unique              1112\n",
      "top       Toei Animation\n",
      "freq                 660\n",
      "Name: Studios, dtype: object\n",
      "--------------------------------------------------\n",
      "Studios\n",
      "Toei Animation                            660\n",
      "Sunrise                                   464\n",
      "J.C.Staff                                 341\n",
      "Madhouse                                  310\n",
      "Studio Deen                               260\n",
      "                                         ... \n",
      "G&G Entertainment                           1\n",
      "Animation 501                               1\n",
      "Bones, Sunrise                              1\n",
      "Toei Animation, Marza Animation Planet      1\n",
      "HMCH, Gravity Well                          1\n",
      "Name: count, Length: 1112, dtype: int64\n",
      "--------------------------------------------------\n"
     ]
    }
   ],
   "source": [
    "print('-' * 50)\n",
    "print(df['Studios'].describe())\n",
    "print('-' * 50)\n",
    "print(df['Studios'].value_counts())\n",
    "print('-' * 50)"
   ]
  },
  {
   "cell_type": "markdown",
   "metadata": {},
   "source": [
    "- Temos o mesmo problemas que apareceu em [gênero](####Genre), onde temos 2 ou + studios juntos em uma única string\n",
    "\n",
    "- Lidaremos com isso da mesma forma"
   ]
  },
  {
   "cell_type": "code",
   "execution_count": 281,
   "metadata": {},
   "outputs": [
    {
     "data": {
      "text/plain": [
       "count    724.00\n",
       "mean      15.06\n",
       "std       47.04\n",
       "min        1.00\n",
       "25%        1.00\n",
       "50%        3.00\n",
       "75%        9.00\n",
       "max      679.00\n",
       "dtype: float64"
      ]
     },
     "execution_count": 281,
     "metadata": {},
     "output_type": "execute_result"
    }
   ],
   "source": [
    "studios = {}\n",
    "\n",
    "for studio in df['Studios']:\n",
    "    studios_lista = studio.split(',')\n",
    "    for studio in studios_lista:\n",
    "        studio = studio.strip().lower()\n",
    "        studios[studio] =  studios.get(studio, 0) + 1\n",
    "\n",
    "studios_series = pd.Series(studios)\n",
    "studios_series.describe().round(2)"
   ]
  },
  {
   "cell_type": "markdown",
   "metadata": {},
   "source": [
    "- Separandos os estúdios pequenos"
   ]
  },
  {
   "cell_type": "code",
   "execution_count": 282,
   "metadata": {},
   "outputs": [
    {
     "data": {
      "text/plain": [
       "hal film maker              35\n",
       "nomad                       35\n",
       "yumeta company              35\n",
       "ruo hong culture            34\n",
       "a.c.g.t.                    33\n",
       "                            ..\n",
       "pollyanna graphics           1\n",
       "t.p.o                        1\n",
       "liberty animation studio     1\n",
       "fuji tv                      1\n",
       "toho animation studio        1\n",
       "Length: 659, dtype: int64"
      ]
     },
     "execution_count": 282,
     "metadata": {},
     "output_type": "execute_result"
    }
   ],
   "source": [
    "peq_studios = studios_series[studios_series <= 35]\n",
    "peq_studios.sort_values(ascending=False)"
   ]
  },
  {
   "cell_type": "markdown",
   "metadata": {},
   "source": [
    "- Separandos os estúdios médios"
   ]
  },
  {
   "cell_type": "code",
   "execution_count": 283,
   "metadata": {},
   "outputs": [
    {
     "name": "stdout",
     "output_type": "stream",
     "text": [
      "brain's base                  96\n",
      "dle                           89\n",
      "group tac                     85\n",
      "doga kobo                     83\n",
      "lidenfilms                    80\n",
      "feel.                         71\n",
      "zexcs                         68\n",
      "ufotable                      68\n",
      "mappa                         68\n",
      "gainax                        66\n",
      "wit studio                    66\n",
      "tokyo movie shinsha           65\n",
      "gallop                        63\n",
      "tezuka productions            62\n",
      "arms                          62\n",
      "ashi productions              61\n",
      "studio 4°c                    54\n",
      "lerche                        54\n",
      "kinema citrus                 53\n",
      "p.a. works                    53\n",
      "haoliners animation league    52\n",
      "tnk                           52\n",
      "8bit                          52\n",
      "aqua aris                     52\n",
      "diomedéa                      51\n",
      "studio hibari                 50\n",
      "magic bus                     50\n",
      "bandai namco pictures         47\n",
      "studio comet                  47\n",
      "ajia-do                       46\n",
      "white fox                     45\n",
      "animate film                  45\n",
      "cloverworks                   43\n",
      "artland                       43\n",
      "studio gokumi                 43\n",
      "studio ghibli                 41\n",
      "actas                         41\n",
      "david production              41\n",
      "studio puyukai                39\n",
      "synergysp                     38\n",
      "telecom animation film        38\n",
      "mushi production              37\n",
      "seven                         36\n",
      "gathering                     36\n",
      "dtype: int64\n",
      "Length: 44 studios\n"
     ]
    }
   ],
   "source": [
    "med_studios = studios_series[(studios_series > 35) & (studios_series <= 100)]\n",
    "print(med_studios.sort_values(ascending=False))\n",
    "print(f'Length: {len(med_studios)} studios') "
   ]
  },
  {
   "cell_type": "markdown",
   "metadata": {},
   "source": [
    "- Separandos os estúdios grandes"
   ]
  },
  {
   "cell_type": "code",
   "execution_count": 284,
   "metadata": {},
   "outputs": [
    {
     "name": "stdout",
     "output_type": "stream",
     "text": [
      "toei animation          679\n",
      "sunrise                 478\n",
      "j.c.staff               364\n",
      "madhouse                347\n",
      "production i.g          311\n",
      "studio deen             279\n",
      "tms entertainment       276\n",
      "pierrot                 242\n",
      "olm                     235\n",
      "a-1 pictures            213\n",
      "shin-ei animation       174\n",
      "nippon animation        170\n",
      "aic                     157\n",
      "tatsunoko production    146\n",
      "bones                   140\n",
      "xebec                   138\n",
      "gonzo                   135\n",
      "shaft                   126\n",
      "kyoto animation         121\n",
      "silver link.            109\n",
      "satelight               101\n",
      "dtype: int64\n",
      "Length: 21 studios\n"
     ]
    }
   ],
   "source": [
    "grandes_studios = studios_series[studios_series > 100] \n",
    "print(grandes_studios.sort_values(ascending=False)) \n",
    "print(f'Length: {len(grandes_studios)} studios')"
   ]
  },
  {
   "cell_type": "markdown",
   "metadata": {},
   "source": [
    "- Vamos plotar um Scatterplot para ver os principais studios, para ver de forma mais visual"
   ]
  },
  {
   "cell_type": "code",
   "execution_count": 285,
   "metadata": {},
   "outputs": [
    {
     "data": {
      "image/png": "[encoded data removed]",
      "text/plain": [
       "<Figure size 1600x800 with 1 Axes>"
      ]
     },
     "metadata": {},
     "output_type": "display_data"
    }
   ],
   "source": [
    "# Ordenar os dados\n",
    "grandes_studios_sorted = grandes_studios.sort_values(ascending=False)\n",
    "\n",
    "f, ax = plt.subplots(figsize=(16, 8))\n",
    "sns.barplot(x=grandes_studios_sorted.values, y=grandes_studios_sorted.index, palette=\"pastel6\", ax=ax)\n",
    "\n",
    "# Rótulos \n",
    "ax.set_title(\"Principais Estúdios de Animação Japonesa (Anime)\", pad=15)\n",
    "ax.set_ylabel(\"Estúdios\", labelpad=15)\n",
    "ax.set_xlabel(\"Quantidade de Animes Produzidos\", labelpad=15)\n",
    "\n",
    "sns.despine(left=True, bottom=True)\n",
    "plt.show()"
   ]
  },
  {
   "cell_type": "markdown",
   "metadata": {},
   "source": [
    "##### Vamos buscar os estúdios que produziram os animes de melhores notas \n",
    "\n",
    "- Apenas notas acima de `9`"
   ]
  },
  {
   "cell_type": "code",
   "execution_count": 286,
   "metadata": {},
   "outputs": [
    {
     "name": "stdout",
     "output_type": "stream",
     "text": [
      "Studios\n",
      "Sunrise                                2\n",
      "Bandai Namco Pictures                  2\n",
      "K-Factory, Kitty Film Mitaka Studio    1\n",
      "Bones                                  1\n",
      "White Fox                              1\n",
      "Madhouse                               1\n",
      "Wit Studio                             1\n",
      "Pierrot                                1\n",
      "A-1 Pictures                           1\n",
      "MAPPA                                  1\n",
      "Name: count, dtype: int64\n"
     ]
    }
   ],
   "source": [
    "better_studios = df[df['Score'] > 9]['Studios'].value_counts()\n",
    "print(better_studios)"
   ]
  },
  {
   "cell_type": "markdown",
   "metadata": {},
   "source": [
    "##### Vamos buscar os estúdios que produziram os animes de piores notas \n",
    "\n",
    "- Outliers de notas abaixo de `4`"
   ]
  },
  {
   "cell_type": "code",
   "execution_count": 287,
   "metadata": {},
   "outputs": [
    {
     "name": "stdout",
     "output_type": "stream",
     "text": [
      "Studios\n",
      "Toei Animation                              2\n",
      "Seven                                       2\n",
      "WAO World                                   1\n",
      "Studio Elle, l-a-unch・BOX                   1\n",
      "Kigumi                                      1\n",
      "Visual Flight                               1\n",
      "Brio Animation                              1\n",
      "DLE                                         1\n",
      "Bandai Namco Pictures                       1\n",
      "Studio! Cucuri                              1\n",
      "Graphinica                                  1\n",
      "Studio Deen                                 1\n",
      "AIC Frontier                                1\n",
      "Animation 21                                1\n",
      "Filmlink International                      1\n",
      "Kuri Jikken Manga Kobo                      1\n",
      "Production I.G                              1\n",
      "Agent 21                                    1\n",
      "Minami Machi Bugyousho                      1\n",
      "Production I.G, General Entertainment       1\n",
      "RAMS                                        1\n",
      "ILCA, DRAWIZ, Toho Interactive Animation    1\n",
      "Name: count, dtype: int64\n"
     ]
    }
   ],
   "source": [
    "res_studios = df[df['Score'] < 4]['Studios'].value_counts()\n",
    "print(res_studios)"
   ]
  },
  {
   "cell_type": "markdown",
   "metadata": {},
   "source": [
    "#### Source "
   ]
  },
  {
   "cell_type": "markdown",
   "metadata": {},
   "source": [
    "- `Source` significa o material original (i.e mangá) da obra adaptada para anime\n",
    "\n",
    "- Algumas colunas aprensentam o valor `unknown`, por isso vamos substituir pelo valor `Other`, que já está presente no dados e representa uma fonte desconhecida"
   ]
  },
  {
   "cell_type": "code",
   "execution_count": 288,
   "metadata": {},
   "outputs": [
    {
     "name": "stdout",
     "output_type": "stream",
     "text": [
      "['Original' 'Manga' 'Light novel' 'Game' 'Visual novel' '4-koma manga'\n",
      " 'Novel' 'Other' 'Picture book' 'Web manga' 'Radio' 'Book' 'Mixed media'\n",
      " 'Card game' 'Music' 'Web novel']\n"
     ]
    }
   ],
   "source": [
    "df['Source'] = df['Source'].replace('Unknown', 'Other')\n",
    "\n",
    "unique_sources =df['Source'].unique()\n",
    "print(unique_sources)"
   ]
  },
  {
   "cell_type": "markdown",
   "metadata": {},
   "source": [
    "- Vamos ver essa distribuição "
   ]
  },
  {
   "cell_type": "code",
   "execution_count": 289,
   "metadata": {},
   "outputs": [
    {
     "name": "stdout",
     "output_type": "stream",
     "text": [
      "--------------------------------------------------\n",
      "count      9992\n",
      "unique       16\n",
      "top       Manga\n",
      "freq       3402\n",
      "Name: Source, dtype: object\n",
      "--------------------------------------------------\n",
      "Source\n",
      "Manga           3402\n",
      "Original        2358\n",
      "Other           1115\n",
      "Light novel      822\n",
      "Game             693\n",
      "Novel            474\n",
      "Visual novel     343\n",
      "Web manga        263\n",
      "4-koma manga     260\n",
      "Book              68\n",
      "Mixed media       62\n",
      "Card game         42\n",
      "Web novel         36\n",
      "Picture book      29\n",
      "Music             19\n",
      "Radio              6\n",
      "Name: count, dtype: int64\n",
      "--------------------------------------------------\n"
     ]
    }
   ],
   "source": [
    "s_counts = df['Source'].value_counts()\n",
    "s_desc = df['Source'].describe()\n",
    "print('-' * 50)\n",
    "print(s_desc)\n",
    "print('-' * 50)\n",
    "print(s_counts)\n",
    "print('-' * 50)"
   ]
  },
  {
   "cell_type": "markdown",
   "metadata": {},
   "source": [
    "- **Mangá** é o material original mais adaptado, isso já era esperado\n",
    "\n",
    "- Temos **16** fontes de material de origem (incluindo o 'other')"
   ]
  },
  {
   "cell_type": "markdown",
   "metadata": {},
   "source": [
    "O **top 3** é consagrado por:\n",
    "    \n",
    "1. Manga : É uma forma de arte visual japonesa que pode ser comparada a quadrinhos ocidentais. Os mangás são geralmente publicados em revistas periódicas.\n",
    "    \n",
    "2. Origial : significa algo que é autêntico, único ou não derivado de algo anterior. Por exemplo, um anime original, não foi baseado de outra fonte\n",
    "\n",
    "3. Light Novel : Light novels são uma forma de ficção literária japonesa destinada a um público jovem adulto. Elas geralmente apresentam ilustrações, semelhantes aos mangás, mas são principalmente textuais."
   ]
  },
  {
   "cell_type": "markdown",
   "metadata": {},
   "source": [
    "- Vamos plotar para mais facilmente essa distribuição de fontes"
   ]
  },
  {
   "cell_type": "code",
   "execution_count": 290,
   "metadata": {},
   "outputs": [
    {
     "data": {
      "image/png": "[encoded data removed]",
      "text/plain": [
       "<Figure size 1500x700 with 1 Axes>"
      ]
     },
     "metadata": {},
     "output_type": "display_data"
    }
   ],
   "source": [
    "f, ax = plt.subplots(figsize=(15, 7))\n",
    "\n",
    "sns.barplot(x=s_counts.values, y=s_counts.index, palette=\"pastel6\", ax=ax)\n",
    "sns.despine(left=True, bottom=True)\n",
    "\n",
    "ax.set_title('Distribuição dos materiais de origem por categoria', pad=10)\n",
    "\n",
    "# Rótulos aos eixos\n",
    "ax.set_xlabel(\"Frequência\", labelpad=15)  \n",
    "ax.set_ylabel(\"Material de origem\", labelpad=15)\n",
    "\n",
    "plt.show()"
   ]
  },
  {
   "cell_type": "markdown",
   "metadata": {},
   "source": [
    "##### Explorando estatistícamente os Top 3"
   ]
  },
  {
   "cell_type": "code",
   "execution_count": 291,
   "metadata": {},
   "outputs": [],
   "source": [
    "result_manga = df[df['Source'] == 'Manga']['Score'].describe().round(2)\n",
    "result_ln = df[df['Source'] == 'Light novel']['Score'].describe().round(2)\n",
    "result_original = df[df['Source'] == 'Original']['Score'].describe().round(2)"
   ]
  },
  {
   "cell_type": "code",
   "execution_count": 292,
   "metadata": {},
   "outputs": [
    {
     "name": "stdout",
     "output_type": "stream",
     "text": [
      "Score dos animes adaptadods de mangá \n",
      "count    3402.00\n",
      "mean        6.96\n",
      "std         0.83\n",
      "min         2.90\n",
      "25%         6.45\n",
      "50%         7.03\n",
      "75%         7.52\n",
      "max         9.10\n",
      "Name: Score, dtype: float64\n",
      "------------------------------\n",
      "Score dos animes adaptadods de Light Novel \n",
      "count    822.00\n",
      "mean       7.01\n",
      "std        0.71\n",
      "min        3.86\n",
      "25%        6.57\n",
      "50%        7.06\n",
      "75%        7.45\n",
      "max        8.90\n",
      "Name: Score, dtype: float64\n"
     ]
    }
   ],
   "source": [
    "print(f\"Score dos animes adaptadods de mangá \\n{result_manga}\")\n",
    "print('-' * 30)\n",
    "print(f\"Score dos animes adaptadods de Light Novel \\n{result_ln}\")"
   ]
  },
  {
   "cell_type": "code",
   "execution_count": 293,
   "metadata": {},
   "outputs": [
    {
     "name": "stdout",
     "output_type": "stream",
     "text": [
      "Score dos animes originais \n",
      "count    2358.00\n",
      "mean        6.53\n",
      "std         0.85\n",
      "min         2.53\n",
      "25%         5.93\n",
      "50%         6.53\n",
      "75%         7.16\n",
      "max         8.91\n",
      "Name: Score, dtype: float64\n"
     ]
    }
   ],
   "source": [
    "print(f\"Score dos animes originais \\n{result_original}\")"
   ]
  },
  {
   "cell_type": "markdown",
   "metadata": {},
   "source": [
    "- Animes advindo de Light Novel tem uma média maior e um desvio padrão menor\n",
    "\n",
    "- Animes oriundos de mangás tem as maiores notas chegando a `9.10`\n",
    "\n",
    "- Animes originais tem a menor nota entre os outros `2.53`"
   ]
  },
  {
   "cell_type": "markdown",
   "metadata": {},
   "source": [
    "#### Rating\n"
   ]
  },
  {
   "cell_type": "markdown",
   "metadata": {},
   "source": [
    "- Vamos explorar um pouco as classificações dos animes"
   ]
  },
  {
   "cell_type": "code",
   "execution_count": 299,
   "metadata": {},
   "outputs": [
    {
     "name": "stdout",
     "output_type": "stream",
     "text": [
      "['R - 17+ (violence & profanity)' 'PG-13 - Teens 13 or older'\n",
      " 'PG - Children' 'R+ - Mild Nudity' 'G - All Ages' 'Rx - Hentai']\n"
     ]
    }
   ],
   "source": [
    "print(df['Rating'].unique())"
   ]
  },
  {
   "cell_type": "code",
   "execution_count": null,
   "metadata": {},
   "outputs": [],
   "source": [
    "df[df['Rating']]"
   ]
  },
  {
   "cell_type": "markdown",
   "metadata": {},
   "source": [
    "### Busca pelos melhores animes"
   ]
  },
  {
   "cell_type": "code",
   "execution_count": 294,
   "metadata": {},
   "outputs": [
    {
     "data": {
      "text/html": [
       "<div>\n",
       "<style scoped>\n",
       "    .dataframe tbody tr th:only-of-type {\n",
       "        vertical-align: middle;\n",
       "    }\n",
       "\n",
       "    .dataframe tbody tr th {\n",
       "        vertical-align: top;\n",
       "    }\n",
       "\n",
       "    .dataframe thead th {\n",
       "        text-align: right;\n",
       "    }\n",
       "</style>\n",
       "<table border=\"1\" class=\"dataframe\">\n",
       "  <thead>\n",
       "    <tr style=\"text-align: right;\">\n",
       "      <th></th>\n",
       "      <th>anime_id</th>\n",
       "      <th>Name</th>\n",
       "      <th>Score</th>\n",
       "      <th>Genres</th>\n",
       "      <th>Type</th>\n",
       "      <th>Episodes</th>\n",
       "      <th>Studios</th>\n",
       "      <th>Source</th>\n",
       "      <th>Rating</th>\n",
       "      <th>Rank</th>\n",
       "      <th>Popularity</th>\n",
       "      <th>Favorites</th>\n",
       "      <th>Scored By</th>\n",
       "    </tr>\n",
       "  </thead>\n",
       "  <tbody>\n",
       "    <tr>\n",
       "      <th>3961</th>\n",
       "      <td>5114</td>\n",
       "      <td>Fullmetal Alchemist: Brotherhood</td>\n",
       "      <td>9.10</td>\n",
       "      <td>Action, Adventure, Drama, Fantasy</td>\n",
       "      <td>TV</td>\n",
       "      <td>64.0</td>\n",
       "      <td>Bones</td>\n",
       "      <td>Manga</td>\n",
       "      <td>R - 17+ (violence &amp; profanity)</td>\n",
       "      <td>1.0</td>\n",
       "      <td>3</td>\n",
       "      <td>217606</td>\n",
       "      <td>2020030.0</td>\n",
       "    </tr>\n",
       "    <tr>\n",
       "      <th>16617</th>\n",
       "      <td>41467</td>\n",
       "      <td>Bleach: Sennen Kessen-hen</td>\n",
       "      <td>9.07</td>\n",
       "      <td>Action, Adventure, Fantasy</td>\n",
       "      <td>TV</td>\n",
       "      <td>13.0</td>\n",
       "      <td>Pierrot</td>\n",
       "      <td>Manga</td>\n",
       "      <td>R - 17+ (violence &amp; profanity)</td>\n",
       "      <td>2.0</td>\n",
       "      <td>464</td>\n",
       "      <td>17999</td>\n",
       "      <td>213872.0</td>\n",
       "    </tr>\n",
       "    <tr>\n",
       "      <th>9880</th>\n",
       "      <td>28977</td>\n",
       "      <td>Gintama°</td>\n",
       "      <td>9.06</td>\n",
       "      <td>Action, Comedy, Sci-Fi</td>\n",
       "      <td>TV</td>\n",
       "      <td>51.0</td>\n",
       "      <td>Bandai Namco Pictures</td>\n",
       "      <td>Manga</td>\n",
       "      <td>PG-13 - Teens 13 or older</td>\n",
       "      <td>4.0</td>\n",
       "      <td>331</td>\n",
       "      <td>15947</td>\n",
       "      <td>237957.0</td>\n",
       "    </tr>\n",
       "    <tr>\n",
       "      <th>14865</th>\n",
       "      <td>38524</td>\n",
       "      <td>Shingeki no Kyojin Season 3 Part 2</td>\n",
       "      <td>9.05</td>\n",
       "      <td>Action, Drama</td>\n",
       "      <td>TV</td>\n",
       "      <td>10.0</td>\n",
       "      <td>Wit Studio</td>\n",
       "      <td>Manga</td>\n",
       "      <td>R - 17+ (violence &amp; profanity)</td>\n",
       "      <td>6.0</td>\n",
       "      <td>24</td>\n",
       "      <td>55245</td>\n",
       "      <td>1471825.0</td>\n",
       "    </tr>\n",
       "    <tr>\n",
       "      <th>17572</th>\n",
       "      <td>43608</td>\n",
       "      <td>Kaguya-sama wa Kokurasetai: Ultra Romantic</td>\n",
       "      <td>9.05</td>\n",
       "      <td>Comedy, Romance</td>\n",
       "      <td>TV</td>\n",
       "      <td>13.0</td>\n",
       "      <td>A-1 Pictures</td>\n",
       "      <td>Manga</td>\n",
       "      <td>PG-13 - Teens 13 or older</td>\n",
       "      <td>5.0</td>\n",
       "      <td>198</td>\n",
       "      <td>29118</td>\n",
       "      <td>451187.0</td>\n",
       "    </tr>\n",
       "    <tr>\n",
       "      <th>5989</th>\n",
       "      <td>9969</td>\n",
       "      <td>Gintama'</td>\n",
       "      <td>9.04</td>\n",
       "      <td>Action, Comedy, Sci-Fi</td>\n",
       "      <td>TV</td>\n",
       "      <td>51.0</td>\n",
       "      <td>Sunrise</td>\n",
       "      <td>Manga</td>\n",
       "      <td>PG-13 - Teens 13 or older</td>\n",
       "      <td>8.0</td>\n",
       "      <td>386</td>\n",
       "      <td>7765</td>\n",
       "      <td>226175.0</td>\n",
       "    </tr>\n",
       "    <tr>\n",
       "      <th>6456</th>\n",
       "      <td>11061</td>\n",
       "      <td>Hunter x Hunter (2011)</td>\n",
       "      <td>9.04</td>\n",
       "      <td>Action, Adventure, Fantasy</td>\n",
       "      <td>TV</td>\n",
       "      <td>148.0</td>\n",
       "      <td>Madhouse</td>\n",
       "      <td>Manga</td>\n",
       "      <td>PG-13 - Teens 13 or older</td>\n",
       "      <td>10.0</td>\n",
       "      <td>10</td>\n",
       "      <td>200265</td>\n",
       "      <td>1651790.0</td>\n",
       "    </tr>\n",
       "    <tr>\n",
       "      <th>7240</th>\n",
       "      <td>15417</td>\n",
       "      <td>Gintama': Enchousen</td>\n",
       "      <td>9.03</td>\n",
       "      <td>Action, Comedy, Sci-Fi</td>\n",
       "      <td>TV</td>\n",
       "      <td>13.0</td>\n",
       "      <td>Sunrise</td>\n",
       "      <td>Manga</td>\n",
       "      <td>PG-13 - Teens 13 or older</td>\n",
       "      <td>11.0</td>\n",
       "      <td>715</td>\n",
       "      <td>2967</td>\n",
       "      <td>157644.0</td>\n",
       "    </tr>\n",
       "  </tbody>\n",
       "</table>\n",
       "</div>"
      ],
      "text/plain": [
       "       anime_id                                        Name  Score  \\\n",
       "3961       5114            Fullmetal Alchemist: Brotherhood   9.10   \n",
       "16617     41467                   Bleach: Sennen Kessen-hen   9.07   \n",
       "9880      28977                                    Gintama°   9.06   \n",
       "14865     38524          Shingeki no Kyojin Season 3 Part 2   9.05   \n",
       "17572     43608  Kaguya-sama wa Kokurasetai: Ultra Romantic   9.05   \n",
       "5989       9969                                    Gintama'   9.04   \n",
       "6456      11061                      Hunter x Hunter (2011)   9.04   \n",
       "7240      15417                         Gintama': Enchousen   9.03   \n",
       "\n",
       "                                  Genres Type  Episodes  \\\n",
       "3961   Action, Adventure, Drama, Fantasy   TV      64.0   \n",
       "16617         Action, Adventure, Fantasy   TV      13.0   \n",
       "9880              Action, Comedy, Sci-Fi   TV      51.0   \n",
       "14865                      Action, Drama   TV      10.0   \n",
       "17572                    Comedy, Romance   TV      13.0   \n",
       "5989              Action, Comedy, Sci-Fi   TV      51.0   \n",
       "6456          Action, Adventure, Fantasy   TV     148.0   \n",
       "7240              Action, Comedy, Sci-Fi   TV      13.0   \n",
       "\n",
       "                     Studios Source                          Rating  Rank  \\\n",
       "3961                   Bones  Manga  R - 17+ (violence & profanity)   1.0   \n",
       "16617                Pierrot  Manga  R - 17+ (violence & profanity)   2.0   \n",
       "9880   Bandai Namco Pictures  Manga       PG-13 - Teens 13 or older   4.0   \n",
       "14865             Wit Studio  Manga  R - 17+ (violence & profanity)   6.0   \n",
       "17572           A-1 Pictures  Manga       PG-13 - Teens 13 or older   5.0   \n",
       "5989                 Sunrise  Manga       PG-13 - Teens 13 or older   8.0   \n",
       "6456                Madhouse  Manga       PG-13 - Teens 13 or older  10.0   \n",
       "7240                 Sunrise  Manga       PG-13 - Teens 13 or older  11.0   \n",
       "\n",
       "       Popularity  Favorites  Scored By  \n",
       "3961            3     217606  2020030.0  \n",
       "16617         464      17999   213872.0  \n",
       "9880          331      15947   237957.0  \n",
       "14865          24      55245  1471825.0  \n",
       "17572         198      29118   451187.0  \n",
       "5989          386       7765   226175.0  \n",
       "6456           10     200265  1651790.0  \n",
       "7240          715       2967   157644.0  "
      ]
     },
     "execution_count": 294,
     "metadata": {},
     "output_type": "execute_result"
    }
   ],
   "source": [
    "df[(df['Source'] == 'Manga') & (df['Score'] > 9) & (df['Type'] == 'TV')].sort_values(by='Score', ascending=False)"
   ]
  }
 ],
 "metadata": {
  "kernelspec": {
   "display_name": ".venv",
   "language": "python",
   "name": "python3"
  },
  "language_info": {
   "codemirror_mode": {
    "name": "ipython",
    "version": 3
   },
   "file_extension": ".py",
   "mimetype": "text/x-python",
   "name": "python",
   "nbconvert_exporter": "python",
   "pygments_lexer": "ipython3",
   "version": "3.10.12"
  }
 },
 "nbformat": 4,
 "nbformat_minor": 2
}
